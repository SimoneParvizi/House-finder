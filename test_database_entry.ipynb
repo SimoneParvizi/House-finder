{
 "cells": [
  {
   "cell_type": "code",
   "execution_count": 6,
   "metadata": {},
   "outputs": [
    {
     "name": "stdout",
     "output_type": "stream",
     "text": [
      "('123 Test Street', None, None, None, None)\n",
      "('https://example.com/listing1', '123 Test Street', 'NaN', 'NaN', 'NaN')\n",
      "('123 Test Street', '01-10-2023', 1500.0, 30.0, 'example')\n",
      "('123 Test Street', '01-10-2023', 1500.0, 30.0, 'example')\n"
     ]
    }
   ],
   "source": [
    "import database\n",
    "\n",
    "database.setup_db()\n",
    "database.store_listing( \"123 Test Street\", \"01-10-2023\", 1500, 30, \"https://example.com/listing1\")\n",
    "# Retrieve all listings\n",
    "all_listings = database.get_all_listings()\n",
    "for listing in all_listings:\n",
    "    print(listing)"
   ]
  },
  {
   "cell_type": "code",
   "execution_count": null,
   "metadata": {},
   "outputs": [],
   "source": []
  }
 ],
 "metadata": {
  "kernelspec": {
   "display_name": "Python 3",
   "language": "python",
   "name": "python3"
  },
  "language_info": {
   "codemirror_mode": {
    "name": "ipython",
    "version": 3
   },
   "file_extension": ".py",
   "mimetype": "text/x-python",
   "name": "python",
   "nbconvert_exporter": "python",
   "pygments_lexer": "ipython3",
   "version": "3.11.6"
  }
 },
 "nbformat": 4,
 "nbformat_minor": 2
}
