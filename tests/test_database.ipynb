{
 "cells": [
  {
   "cell_type": "code",
   "execution_count": 1,
   "metadata": {},
   "outputs": [],
   "source": [
    "import os\n",
    "os.chdir('..')\n",
    "from helper_database import get_all_listings, get_columns_of_table, get_all_tables\n",
    "\n",
    "DATABASE_NAME = \"listings.db\"\n"
   ]
  },
  {
   "cell_type": "code",
   "execution_count": 9,
   "metadata": {},
   "outputs": [
    {
     "name": "stdout",
     "output_type": "stream",
     "text": [
      "('Dennenrodepad', '1102 MW Amsterdam (D-buurt)', 'Te huur: Gemeubileerde studio in Amsterdam Zuid-oost; Huurprijs €800,- all incl. (water, electra, internet, tv); Borg €8', 'https://www.huurstunt.nl', 'https://www.huurstunt.nl/studio/huren/in/amsterdam/dennenrodepad/Q8Hdg')\n",
      "('Lunaweg', '1115 TA Duivendrecht', 'Deze zelfstandige woning heeft een eigen badkamer en keuken. De studio’s worden gemeubileerd en gestoffeerd opgeleverd.', 'https://www.huurstunt.nl', 'https://www.huurstunt.nl/studio/huren/in/duivendrecht/lunaweg/Q8ARl')\n",
      "('Holendrechtstraat', '1078 TT Amsterdam (IJselbuurt Oost)', 'Available 01 FEBRUARY 2024 !! in our expat-complex Holendrechtstraat one room 18 m2 + own bathroom 4 m2 + kitchenroom 9', 'https://www.huurstunt.nl', 'https://www.huurstunt.nl/studio/huren/in/amsterdam/holendrechtstraat/Q87FY')\n",
      "('Rijswijkstraat', '1062 EV Amsterdam (Delflandpleinbuurt West)', 'Zelfstandige studio te huur. Deze studio heeft een eigen badkamer en keuken. De ruimte is gestoffeerd en gemeubileerd, z', 'https://www.huurstunt.nl', 'https://www.huurstunt.nl/studio/huren/in/amsterdam/rijswijkstraat/Q82SG')\n",
      "('1016 CS Amsterdam (Passeerdersgrachtbuurt)', '€ 800', '25 m2', 'https://www.huurstunt.nl', 'https://www.huurstunt.nl/studio/huren/in/amsterdam/leidsegracht/Q7d9E')\n",
      "('1103 RA Amsterdam (G-buurt Oost)', '€ 1.250', '21 m2', 'https://www.huurstunt.nl', 'https://www.huurstunt.nl/studio/huren/in/amsterdam/geerdinkhof/Q7BB3')\n",
      "('1098 XD Amsterdam (Science Park Noord)', '€ 700', '23 m2', 'https://www.huurstunt.nl', 'https://www.huurstunt.nl/studio/huren/in/amsterdam/carolina-macgillavrylaan/Q6Xke')\n",
      "('Cruquiusweg', '1019 AT Amsterdam (Bedrijvengebied Cruquiusweg)', 'Bij interesse graag uitsluitend per e-mail reageren. nieuw opgeleverde studio op cruquius eiland, per direct beschkba', 'https://www.huurstunt.nl', 'https://www.huurstunt.nl/studio/huren/in/amsterdam/cruquiusweg/Q5h0S')\n",
      "('1024 KM Amsterdam (Werengouw Midden)', '€ 1.345', '85 m2', 'https://www.huurstunt.nl', 'https://www.huurstunt.nl/studio/huren/in/amsterdam/ijdoornlaan/Q5gTT')\n",
      "('1096 GJ Amsterdam (Amstelkwartier Noord)', '€ 1.475', '30 m2', 'https://www.huurstunt.nl', 'https://www.huurstunt.nl/studio/huren/in/amsterdam/welnastraat/Q5asa')\n",
      "('1034 BM Amsterdam (Banne Zuidoost)', '€ 1.400', '40 m2', 'https://www.huurstunt.nl', 'https://www.huurstunt.nl/studio/huren/in/amsterdam/ijdoornlaan/Q50eO')\n",
      "('1062 AC Amsterdam (Overtoomse Veld Zuid)', '€ 1.250', '30 m2', 'https://www.huurstunt.nl', 'https://www.huurstunt.nl/studio/huren/in/amsterdam/august-allebeplein/Q4Qgi')\n",
      "('1051 GV Amsterdam (Westerstaatsman)', '€ 1.100', '40 m2', 'https://www.huurstunt.nl', 'https://www.huurstunt.nl/studio/huren/in/amsterdam/cliffordstraat/Q3ejw')\n",
      "('1115 TA Duivendrecht', '€ 802', '25 m2', 'https://www.huurstunt.nl', 'https://www.huurstunt.nl/studio/huren/in/duivendrecht/lunaweg/Q3ejs')\n",
      "('1015 AR Amsterdam (Langestraat e.o.)', '€ 1.150', '28 m2', 'https://www.huurstunt.nl', 'https://www.huurstunt.nl/studio/huren/in/amsterdam/korsjespoortsteeg/Q3c4g')\n",
      "('1064 GX Amsterdam (Buurt 5 Zuid)', '€ 523', '26 m2', 'https://www.huurstunt.nl', 'https://www.huurstunt.nl/studio/huren/in/amsterdam/slotermeerlaan/Q3YLR')\n",
      "('1064 GX Amsterdam (Buurt 5 Zuid)', '€ 558', '24 m2', 'https://www.huurstunt.nl', 'https://www.huurstunt.nl/studio/huren/in/amsterdam/slotermeerlaan/Q3YLT')\n",
      "('1017 KH Amsterdam (Leidsebuurt Noordoost)', '€ 1.250', '38 m2', 'https://www.huurstunt.nl', 'https://www.huurstunt.nl/studio/huren/in/amsterdam/prinsengracht/Q3I5w')\n",
      "('1064 GX Amsterdam (Buurt 5 Zuid)', '€ 1.000', '24 m2', 'https://www.huurstunt.nl', 'https://www.huurstunt.nl/studio/huren/in/amsterdam/slotermeerlaan/Q2BdI')\n",
      "('Haringbuisdijk', '1086 VA Amsterdam (Weespersluis)', 'studio met een woonoppervlakte van 38 m2. De moderne, lichte keuken is voorzien van inbouwapparatuur en de badkamer heef', 'https://www.huurstunt.nl', 'https://www.huurstunt.nl/studio/huren/in/amsterdam/haringbuisdijk/Q1yJW')\n"
     ]
    }
   ],
   "source": [
    "listings = get_all_listings()\n",
    "for listing in listings:\n",
    "    print(listing)"
   ]
  },
  {
   "cell_type": "code",
   "execution_count": 4,
   "metadata": {},
   "outputs": [
    {
     "name": "stdout",
     "output_type": "stream",
     "text": [
      "Table: listings\n",
      "id, url, address, price, size, source_website, specific_url, email_sent\n",
      "-----------------------------\n"
     ]
    }
   ],
   "source": [
    "tables = get_all_tables()\n",
    "\n",
    "for table in tables:\n",
    "    print(f\"Table: {table}\")\n",
    "    columns = get_columns_of_table(table)\n",
    "    print(\", \".join(columns))\n",
    "    print(\"-----------------------------\")\n"
   ]
  },
  {
   "cell_type": "code",
   "execution_count": null,
   "metadata": {},
   "outputs": [],
   "source": []
  }
 ],
 "metadata": {
  "kernelspec": {
   "display_name": "Python 3",
   "language": "python",
   "name": "python3"
  },
  "language_info": {
   "codemirror_mode": {
    "name": "ipython",
    "version": 3
   },
   "file_extension": ".py",
   "mimetype": "text/x-python",
   "name": "python",
   "nbconvert_exporter": "python",
   "pygments_lexer": "ipython3",
   "version": "3.11.6"
  }
 },
 "nbformat": 4,
 "nbformat_minor": 2
}
