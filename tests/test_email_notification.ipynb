{
 "cells": [
  {
   "cell_type": "code",
   "execution_count": 16,
   "metadata": {},
   "outputs": [],
   "source": [
    "from bs4 import BeautifulSoup\n",
    "from house_scraper import send_notification_to_owner"
   ]
  },
  {
   "cell_type": "code",
   "execution_count": 17,
   "metadata": {},
   "outputs": [],
   "source": [
    "# test HTML for a listing\n",
    "html = \"\"\"\n",
    "<div class=\"listing\">\n",
    "    <div class=\"address\">123 Test Street</div>\n",
    "    <div class=\"email\">parvizi.simone@gmail.com</div>\n",
    "</div>\n",
    "\"\"\"\n",
    "soup = BeautifulSoup(html, 'html.parser')\n",
    "listing = soup.select_one('.listing')\n",
    "\n",
    "# Dummy website\n",
    "url = \"https://example.com/test-listing\"\n",
    "address_selector = \".address\"\n",
    "email_selector = \".email\"\n",
    "\n",
    "send_notification_to_owner(listing, address_selector, email_selector, url)"
   ]
  },
  {
   "cell_type": "code",
   "execution_count": null,
   "metadata": {},
   "outputs": [],
   "source": []
  }
 ],
 "metadata": {
  "kernelspec": {
   "display_name": "Python 3",
   "language": "python",
   "name": "python3"
  },
  "language_info": {
   "codemirror_mode": {
    "name": "ipython",
    "version": 3
   },
   "file_extension": ".py",
   "mimetype": "text/x-python",
   "name": "python",
   "nbconvert_exporter": "python",
   "pygments_lexer": "ipython3",
   "version": "3.11.6"
  }
 },
 "nbformat": 4,
 "nbformat_minor": 2
}
