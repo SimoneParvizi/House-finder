{
 "cells": [
  {
   "cell_type": "code",
   "execution_count": 1,
   "metadata": {},
   "outputs": [],
   "source": [
    "import os\n",
    "os.chdir('..')\n",
    "import sqlite3\n",
    "from dotenv import load_dotenv\n",
    "from selenium import webdriver\n",
    "from helper import set_filters_huurstunt\n",
    "from helper_database import should_send_email, mark_email_as_sent\n",
    "from selenium.webdriver.common.by import By\n",
    "from selenium.common.exceptions import NoSuchElementException\n",
    "from helper_database import extract_store_listings_huurstunt\n",
    "\n",
    "import logging"
   ]
  },
  {
   "cell_type": "code",
   "execution_count": 30,
   "metadata": {},
   "outputs": [],
   "source": [
    "logger = logging.getLogger(__name__)\n",
    "handler = logging.StreamHandler()\n",
    "formatter = logging.Formatter('%(asctime)s - %(levelname)s - %(message)s')\n",
    "handler.setFormatter(formatter)\n",
    "logger.addHandler(handler)\n",
    "logger.setLevel(logging.INFO)\n",
    "logger.propagate = False\n",
    "\n",
    "load_dotenv()\n",
    "\n",
    "HUURSTUNT_USERNAME = os.getenv('HUURSTUNT_USERNAME')\n",
    "HUURSTUNT_PASSWORD = os.getenv('HUURSTUNT_PASSWORD')\n",
    "\n",
    "DATABASE_NAME = \"listings.db\"\n",
    "\n",
    "\n",
    "chrome_options = webdriver.ChromeOptions()\n",
    "chrome_options.debugger_address = \"127.0.0.1:9222\"\n",
    "driver = webdriver.Chrome(options=chrome_options)"
   ]
  },
  {
   "cell_type": "code",
   "execution_count": 20,
   "metadata": {},
   "outputs": [],
   "source": [
    "driver.get(\"https://www.huurstunt.nl/\")\n",
    "set_filters_huurstunt(driver, 100, 1500, 'Amsterdam')"
   ]
  },
  {
   "cell_type": "code",
   "execution_count": 59,
   "metadata": {},
   "outputs": [
    {
     "name": "stdout",
     "output_type": "stream",
     "text": [
      "Email hasn't been sent for listing ID: 1\n",
      "Email hasn't been sent for listing ID: 2\n",
      "Email hasn't been sent for listing ID: 3\n",
      "Email hasn't been sent for listing ID: 4\n",
      "Email hasn't been sent for listing ID: 5\n",
      "Email hasn't been sent for listing ID: 6\n",
      "Email hasn't been sent for listing ID: 7\n",
      "Email hasn't been sent for listing ID: 9\n",
      "Email hasn't been sent for listing ID: 10\n",
      "Email hasn't been sent for listing ID: 11\n",
      "Email hasn't been sent for listing ID: 12\n",
      "Email hasn't been sent for listing ID: 13\n",
      "Email hasn't been sent for listing ID: 14\n",
      "Email hasn't been sent for listing ID: 15\n",
      "Email hasn't been sent for listing ID: 16\n",
      "Email hasn't been sent for listing ID: 17\n",
      "Email hasn't been sent for listing ID: 18\n",
      "Email hasn't been sent for listing ID: 19\n",
      "Email hasn't been sent for listing ID: 20\n",
      "Email hasn't been sent for listing ID: 21\n"
     ]
    }
   ],
   "source": [
    "listings = extract_store_listings_huurstunt(driver)\n",
    "for listing in listings:\n",
    "    listing_id = listing['id']  # assuming each listing is a dictionary with an 'id' key\n",
    "    if should_send_email    (listing_id):\n",
    "        print(f\"Email hasn't been sent for listing ID: {listing_id}\")\n",
    "    else:\n",
    "        print(f\"Email has already been sent for listing ID: {listing_id}\")\n"
   ]
  },
  {
   "cell_type": "code",
   "execution_count": 60,
   "metadata": {},
   "outputs": [
    {
     "name": "stderr",
     "output_type": "stream",
     "text": [
      "2023-11-06 21:41:57,996 - INFO - Extracted 20 listings.\n"
     ]
    },
    {
     "ename": "KeyboardInterrupt",
     "evalue": "",
     "output_type": "error",
     "traceback": [
      "\u001b[1;31m---------------------------------------------------------------------------\u001b[0m",
      "\u001b[1;31mKeyboardInterrupt\u001b[0m                         Traceback (most recent call last)",
      "\u001b[1;32mc:\\Users\\simon\\Desktop\\ACHIEVE YOUR FUCKING DREAMS\\Scripts\\Amsterdam house\\House-finder\\tests\\test_email_new_listing.ipynb Cell 5\u001b[0m line \u001b[0;36m2\n\u001b[0;32m     <a href='vscode-notebook-cell:/c%3A/Users/simon/Desktop/ACHIEVE%20YOUR%20FUCKING%20DREAMS/Scripts/Amsterdam%20house/House-finder/tests/test_email_new_listing.ipynb#W6sZmlsZQ%3D%3D?line=21'>22</a>\u001b[0m driver\u001b[39m.\u001b[39mget(listing[\u001b[39m'\u001b[39m\u001b[39mspecific_url\u001b[39m\u001b[39m'\u001b[39m])\n\u001b[0;32m     <a href='vscode-notebook-cell:/c%3A/Users/simon/Desktop/ACHIEVE%20YOUR%20FUCKING%20DREAMS/Scripts/Amsterdam%20house/House-finder/tests/test_email_new_listing.ipynb#W6sZmlsZQ%3D%3D?line=23'>24</a>\u001b[0m wait \u001b[39m=\u001b[39m WebDriverWait(driver, \u001b[39m10\u001b[39m)\n\u001b[1;32m---> <a href='vscode-notebook-cell:/c%3A/Users/simon/Desktop/ACHIEVE%20YOUR%20FUCKING%20DREAMS/Scripts/Amsterdam%20house/House-finder/tests/test_email_new_listing.ipynb#W6sZmlsZQ%3D%3D?line=24'>25</a>\u001b[0m email_element \u001b[39m=\u001b[39m wait\u001b[39m.\u001b[39;49muntil(EC\u001b[39m.\u001b[39;49mpresence_of_element_located((By\u001b[39m.\u001b[39;49mCSS_SELECTOR, \u001b[39m\"\u001b[39;49m\u001b[39ma.agent__info__mail__show[href^=\u001b[39;49m\u001b[39m'\u001b[39;49m\u001b[39mmailto:\u001b[39;49m\u001b[39m'\u001b[39;49m\u001b[39m]\u001b[39;49m\u001b[39m\"\u001b[39;49m)))\n\u001b[0;32m     <a href='vscode-notebook-cell:/c%3A/Users/simon/Desktop/ACHIEVE%20YOUR%20FUCKING%20DREAMS/Scripts/Amsterdam%20house/House-finder/tests/test_email_new_listing.ipynb#W6sZmlsZQ%3D%3D?line=26'>27</a>\u001b[0m \u001b[39m# Extract owner email from the href attribute\u001b[39;00m\n\u001b[0;32m     <a href='vscode-notebook-cell:/c%3A/Users/simon/Desktop/ACHIEVE%20YOUR%20FUCKING%20DREAMS/Scripts/Amsterdam%20house/House-finder/tests/test_email_new_listing.ipynb#W6sZmlsZQ%3D%3D?line=27'>28</a>\u001b[0m owner_email \u001b[39m=\u001b[39m email_element\u001b[39m.\u001b[39mget_attribute(\u001b[39m'\u001b[39m\u001b[39mhref\u001b[39m\u001b[39m'\u001b[39m)\u001b[39m.\u001b[39mreplace(\u001b[39m'\u001b[39m\u001b[39mmailto:\u001b[39m\u001b[39m'\u001b[39m, \u001b[39m'\u001b[39m\u001b[39m'\u001b[39m)\n",
      "File \u001b[1;32m~\\AppData\\Local\\Packages\\PythonSoftwareFoundation.Python.3.11_qbz5n2kfra8p0\\LocalCache\\local-packages\\Python311\\site-packages\\selenium\\webdriver\\support\\wait.py:92\u001b[0m, in \u001b[0;36mWebDriverWait.until\u001b[1;34m(self, method, message)\u001b[0m\n\u001b[0;32m     90\u001b[0m     screen \u001b[39m=\u001b[39m \u001b[39mgetattr\u001b[39m(exc, \u001b[39m\"\u001b[39m\u001b[39mscreen\u001b[39m\u001b[39m\"\u001b[39m, \u001b[39mNone\u001b[39;00m)\n\u001b[0;32m     91\u001b[0m     stacktrace \u001b[39m=\u001b[39m \u001b[39mgetattr\u001b[39m(exc, \u001b[39m\"\u001b[39m\u001b[39mstacktrace\u001b[39m\u001b[39m\"\u001b[39m, \u001b[39mNone\u001b[39;00m)\n\u001b[1;32m---> 92\u001b[0m time\u001b[39m.\u001b[39msleep(\u001b[39mself\u001b[39m\u001b[39m.\u001b[39m_poll)\n\u001b[0;32m     93\u001b[0m \u001b[39mif\u001b[39;00m time\u001b[39m.\u001b[39mmonotonic() \u001b[39m>\u001b[39m end_time:\n\u001b[0;32m     94\u001b[0m     \u001b[39mbreak\u001b[39;00m\n",
      "\u001b[1;31mKeyboardInterrupt\u001b[0m: "
     ]
    }
   ],
   "source": [
    "# Step 1: Extract listings\n",
    "from selenium.webdriver.support.ui import WebDriverWait, Select\n",
    "from selenium.webdriver.support import expected_conditions as EC\n",
    "\n",
    "try:\n",
    "    listings = extract_store_listings_huurstunt(driver)\n",
    "    logger.info(f'Extracted {len(listings)} listings.')\n",
    "except Exception as e:\n",
    "    logger.error(f\"Error during listing extraction: {e}\")\n",
    "\n",
    "# Step 2: Process each listing\n",
    "for listing in listings:\n",
    "    listing_id = listing['id']  # Use the 'id' from the extracted data\n",
    "\n",
    "    \n",
    "\n",
    "    # Check if an email should be sent for this listing\n",
    "    try:\n",
    "        if should_send_email(listing_id):\n",
    "            \n",
    "            # Navigate to the specific URL of the listing\n",
    "            driver.get(listing['specific_url'])\n",
    "            \n",
    "            wait = WebDriverWait(driver, 10)\n",
    "            email_element = wait.until(EC.presence_of_element_located((By.CSS_SELECTOR, \"a.agent__info__mail__show[href^='mailto:']\")))\n",
    "\n",
    "            # Extract owner email from the href attribute\n",
    "            owner_email = email_element.get_attribute('href').replace('mailto:', '')\n",
    "            print(owner_email)\n",
    "                    \n",
    "            # Send the notification email\n",
    "            # send_notification_to_owner(listing, address_selector, email_selector, listing['specific_url'])\n",
    "            \n",
    "            # # Mark the email as sent in the database\n",
    "            # mark_email_as_sent(listing_id)\n",
    "    except Exception as e:\n",
    "        logger.error(f\"Error processing listing with ID {listing_id}: {e}\")\n"
   ]
  },
  {
   "cell_type": "code",
   "execution_count": 67,
   "metadata": {},
   "outputs": [
    {
     "data": {
      "text/plain": [
       "<selenium.webdriver.support.wait.WebDriverWait (session=\"a05ade9b32738a9ff001e99bb9ff0490\")>"
      ]
     },
     "execution_count": 67,
     "metadata": {},
     "output_type": "execute_result"
    }
   ],
   "source": [
    "# Step 1: Extract listings\n",
    "\n",
    "driver.get(\"https://www.huurstunt.nl/studio/huren/amsterdam/100-1500/\")\n",
    "wait = WebDriverWait(driver, 2)\n",
    "wait "
   ]
  },
  {
   "cell_type": "code",
   "execution_count": 68,
   "metadata": {},
   "outputs": [
    {
     "name": "stderr",
     "output_type": "stream",
     "text": [
      "2023-11-06 21:43:08,500 - INFO - Extracted 20 listings.\n",
      "2023-11-06 21:43:08,518 - INFO - Email hasn't been sent for listing ID: 1\n",
      "2023-11-06 21:43:08,986 - INFO - Email hasn't been sent for listing ID: 2\n"
     ]
    },
    {
     "name": "stdout",
     "output_type": "stream",
     "text": [
      "no email found\n"
     ]
    },
    {
     "name": "stderr",
     "output_type": "stream",
     "text": [
      "2023-11-06 21:43:09,603 - INFO - Email hasn't been sent for listing ID: 3\n"
     ]
    },
    {
     "name": "stdout",
     "output_type": "stream",
     "text": [
      "info.nl@plazaresidentservices.com\n"
     ]
    },
    {
     "name": "stderr",
     "output_type": "stream",
     "text": [
      "2023-11-06 21:43:10,212 - INFO - Email hasn't been sent for listing ID: 4\n"
     ]
    },
    {
     "name": "stdout",
     "output_type": "stream",
     "text": [
      "no email found\n",
      "info.nl@plazaresidentservices.com\n"
     ]
    }
   ],
   "source": [
    "\n",
    "try:\n",
    "    listings = extract_store_listings_huurstunt(driver)\n",
    "    logger.info(f'Extracted {len(listings)} listings.')\n",
    "except Exception as e:\n",
    "    logger.error(f\"Error during listing extraction: {e}\")\n",
    "\n",
    "# Step 2: Process each listing\n",
    "for listing in listings[:4]:\n",
    "    listing_id = listing['id']  # Use the 'id' from the extracted data    \n",
    "    try:\n",
    "        if should_send_email(listing_id):\n",
    "            logger.info(f\"Email hasn't been sent for listing ID: {listing_id}\")\n",
    "            \n",
    "            driver.get(listing['specific_url'])            \n",
    "            owner_email = driver.execute_script('return document.querySelector(\"span[data-select-copy=\\'1\\']\").innerText;')\n",
    "\n",
    "            print(owner_email)\n",
    "            \n",
    "    except NoSuchElementException:\n",
    "        print('in culo')\n",
    "    \n",
    "    except Exception as e:\n",
    "        print('no email found')\n",
    "        pass"
   ]
  },
  {
   "cell_type": "code",
   "execution_count": null,
   "metadata": {},
   "outputs": [],
   "source": []
  },
  {
   "cell_type": "code",
   "execution_count": 37,
   "metadata": {},
   "outputs": [
    {
     "name": "stderr",
     "output_type": "stream",
     "text": [
      "2023-11-06 21:28:01,164 - INFO - Extracted 20 listings.\n",
      "2023-11-06 21:28:01,164 - INFO - Extracted 20 listings.\n",
      "2023-11-06 21:28:01,164 - INFO - Extracted 20 listings.\n",
      "2023-11-06 21:28:01,167 - INFO - Processing listing with ID 1\n",
      "2023-11-06 21:28:01,167 - INFO - Processing listing with ID 1\n",
      "2023-11-06 21:28:01,167 - INFO - Processing listing with ID 1\n",
      "2023-11-06 21:28:01,171 - INFO - Email hasn't been sent for listing ID: 1\n",
      "2023-11-06 21:28:01,171 - INFO - Email hasn't been sent for listing ID: 1\n",
      "2023-11-06 21:28:01,171 - INFO - Email hasn't been sent for listing ID: 1\n"
     ]
    },
    {
     "name": "stdout",
     "output_type": "stream",
     "text": [
      "got the specific url:  https://www.huurstunt.nl/studio/huren/in/amsterdam/dennenrodepad/Q8Hdg\n"
     ]
    },
    {
     "name": "stderr",
     "output_type": "stream",
     "text": [
      "2023-11-06 21:28:03,871 - ERROR - Error processing listing with ID 1: Message: \n",
      "Stacktrace:\n",
      "\tGetHandleVerifier [0x00007FF7C79E8EF2+54786]\n",
      "\t(No symbol) [0x00007FF7C7955612]\n",
      "\t(No symbol) [0x00007FF7C780A64B]\n",
      "\t(No symbol) [0x00007FF7C784B79C]\n",
      "\t(No symbol) [0x00007FF7C784B91C]\n",
      "\t(No symbol) [0x00007FF7C7886D87]\n",
      "\t(No symbol) [0x00007FF7C786BEAF]\n",
      "\t(No symbol) [0x00007FF7C7884D02]\n",
      "\t(No symbol) [0x00007FF7C786BC43]\n",
      "\t(No symbol) [0x00007FF7C7840941]\n",
      "\t(No symbol) [0x00007FF7C7841B84]\n",
      "\tGetHandleVerifier [0x00007FF7C7D37F52+3524194]\n",
      "\tGetHandleVerifier [0x00007FF7C7D8D800+3874576]\n",
      "\tGetHandleVerifier [0x00007FF7C7D85D7F+3843215]\n",
      "\tGetHandleVerifier [0x00007FF7C7A85086+694166]\n",
      "\t(No symbol) [0x00007FF7C7960A88]\n",
      "\t(No symbol) [0x00007FF7C795CA94]\n",
      "\t(No symbol) [0x00007FF7C795CBC2]\n",
      "\t(No symbol) [0x00007FF7C794CC83]\n",
      "\tBaseThreadInitThunk [0x00007FF8D109257D+29]\n",
      "\tRtlUserThreadStart [0x00007FF8D2D2AA78+40]\n",
      "\n",
      "2023-11-06 21:28:03,871 - ERROR - Error processing listing with ID 1: Message: \n",
      "Stacktrace:\n",
      "\tGetHandleVerifier [0x00007FF7C79E8EF2+54786]\n",
      "\t(No symbol) [0x00007FF7C7955612]\n",
      "\t(No symbol) [0x00007FF7C780A64B]\n",
      "\t(No symbol) [0x00007FF7C784B79C]\n",
      "\t(No symbol) [0x00007FF7C784B91C]\n",
      "\t(No symbol) [0x00007FF7C7886D87]\n",
      "\t(No symbol) [0x00007FF7C786BEAF]\n",
      "\t(No symbol) [0x00007FF7C7884D02]\n",
      "\t(No symbol) [0x00007FF7C786BC43]\n",
      "\t(No symbol) [0x00007FF7C7840941]\n",
      "\t(No symbol) [0x00007FF7C7841B84]\n",
      "\tGetHandleVerifier [0x00007FF7C7D37F52+3524194]\n",
      "\tGetHandleVerifier [0x00007FF7C7D8D800+3874576]\n",
      "\tGetHandleVerifier [0x00007FF7C7D85D7F+3843215]\n",
      "\tGetHandleVerifier [0x00007FF7C7A85086+694166]\n",
      "\t(No symbol) [0x00007FF7C7960A88]\n",
      "\t(No symbol) [0x00007FF7C795CA94]\n",
      "\t(No symbol) [0x00007FF7C795CBC2]\n",
      "\t(No symbol) [0x00007FF7C794CC83]\n",
      "\tBaseThreadInitThunk [0x00007FF8D109257D+29]\n",
      "\tRtlUserThreadStart [0x00007FF8D2D2AA78+40]\n",
      "\n",
      "2023-11-06 21:28:03,871 - ERROR - Error processing listing with ID 1: Message: \n",
      "Stacktrace:\n",
      "\tGetHandleVerifier [0x00007FF7C79E8EF2+54786]\n",
      "\t(No symbol) [0x00007FF7C7955612]\n",
      "\t(No symbol) [0x00007FF7C780A64B]\n",
      "\t(No symbol) [0x00007FF7C784B79C]\n",
      "\t(No symbol) [0x00007FF7C784B91C]\n",
      "\t(No symbol) [0x00007FF7C7886D87]\n",
      "\t(No symbol) [0x00007FF7C786BEAF]\n",
      "\t(No symbol) [0x00007FF7C7884D02]\n",
      "\t(No symbol) [0x00007FF7C786BC43]\n",
      "\t(No symbol) [0x00007FF7C7840941]\n",
      "\t(No symbol) [0x00007FF7C7841B84]\n",
      "\tGetHandleVerifier [0x00007FF7C7D37F52+3524194]\n",
      "\tGetHandleVerifier [0x00007FF7C7D8D800+3874576]\n",
      "\tGetHandleVerifier [0x00007FF7C7D85D7F+3843215]\n",
      "\tGetHandleVerifier [0x00007FF7C7A85086+694166]\n",
      "\t(No symbol) [0x00007FF7C7960A88]\n",
      "\t(No symbol) [0x00007FF7C795CA94]\n",
      "\t(No symbol) [0x00007FF7C795CBC2]\n",
      "\t(No symbol) [0x00007FF7C794CC83]\n",
      "\tBaseThreadInitThunk [0x00007FF8D109257D+29]\n",
      "\tRtlUserThreadStart [0x00007FF8D2D2AA78+40]\n",
      "\n",
      "2023-11-06 21:28:03,874 - INFO - Processing listing with ID 2\n",
      "2023-11-06 21:28:03,874 - INFO - Processing listing with ID 2\n",
      "2023-11-06 21:28:03,874 - INFO - Processing listing with ID 2\n",
      "2023-11-06 21:28:03,878 - INFO - Email hasn't been sent for listing ID: 2\n",
      "2023-11-06 21:28:03,878 - INFO - Email hasn't been sent for listing ID: 2\n",
      "2023-11-06 21:28:03,878 - INFO - Email hasn't been sent for listing ID: 2\n"
     ]
    },
    {
     "name": "stdout",
     "output_type": "stream",
     "text": [
      "got the specific url:  https://www.huurstunt.nl/studio/huren/in/duivendrecht/lunaweg/Q8ARl\n"
     ]
    },
    {
     "name": "stderr",
     "output_type": "stream",
     "text": [
      "2023-11-06 21:28:06,595 - ERROR - Error processing listing with ID 2: Message: \n",
      "Stacktrace:\n",
      "\tGetHandleVerifier [0x00007FF7C79E8EF2+54786]\n",
      "\t(No symbol) [0x00007FF7C7955612]\n",
      "\t(No symbol) [0x00007FF7C780A64B]\n",
      "\t(No symbol) [0x00007FF7C784B79C]\n",
      "\t(No symbol) [0x00007FF7C784B91C]\n",
      "\t(No symbol) [0x00007FF7C7886D87]\n",
      "\t(No symbol) [0x00007FF7C786BEAF]\n",
      "\t(No symbol) [0x00007FF7C7884D02]\n",
      "\t(No symbol) [0x00007FF7C786BC43]\n",
      "\t(No symbol) [0x00007FF7C7840941]\n",
      "\t(No symbol) [0x00007FF7C7841B84]\n",
      "\tGetHandleVerifier [0x00007FF7C7D37F52+3524194]\n",
      "\tGetHandleVerifier [0x00007FF7C7D8D800+3874576]\n",
      "\tGetHandleVerifier [0x00007FF7C7D85D7F+3843215]\n",
      "\tGetHandleVerifier [0x00007FF7C7A85086+694166]\n",
      "\t(No symbol) [0x00007FF7C7960A88]\n",
      "\t(No symbol) [0x00007FF7C795CA94]\n",
      "\t(No symbol) [0x00007FF7C795CBC2]\n",
      "\t(No symbol) [0x00007FF7C794CC83]\n",
      "\tBaseThreadInitThunk [0x00007FF8D109257D+29]\n",
      "\tRtlUserThreadStart [0x00007FF8D2D2AA78+40]\n",
      "\n",
      "2023-11-06 21:28:06,595 - ERROR - Error processing listing with ID 2: Message: \n",
      "Stacktrace:\n",
      "\tGetHandleVerifier [0x00007FF7C79E8EF2+54786]\n",
      "\t(No symbol) [0x00007FF7C7955612]\n",
      "\t(No symbol) [0x00007FF7C780A64B]\n",
      "\t(No symbol) [0x00007FF7C784B79C]\n",
      "\t(No symbol) [0x00007FF7C784B91C]\n",
      "\t(No symbol) [0x00007FF7C7886D87]\n",
      "\t(No symbol) [0x00007FF7C786BEAF]\n",
      "\t(No symbol) [0x00007FF7C7884D02]\n",
      "\t(No symbol) [0x00007FF7C786BC43]\n",
      "\t(No symbol) [0x00007FF7C7840941]\n",
      "\t(No symbol) [0x00007FF7C7841B84]\n",
      "\tGetHandleVerifier [0x00007FF7C7D37F52+3524194]\n",
      "\tGetHandleVerifier [0x00007FF7C7D8D800+3874576]\n",
      "\tGetHandleVerifier [0x00007FF7C7D85D7F+3843215]\n",
      "\tGetHandleVerifier [0x00007FF7C7A85086+694166]\n",
      "\t(No symbol) [0x00007FF7C7960A88]\n",
      "\t(No symbol) [0x00007FF7C795CA94]\n",
      "\t(No symbol) [0x00007FF7C795CBC2]\n",
      "\t(No symbol) [0x00007FF7C794CC83]\n",
      "\tBaseThreadInitThunk [0x00007FF8D109257D+29]\n",
      "\tRtlUserThreadStart [0x00007FF8D2D2AA78+40]\n",
      "\n",
      "2023-11-06 21:28:06,595 - ERROR - Error processing listing with ID 2: Message: \n",
      "Stacktrace:\n",
      "\tGetHandleVerifier [0x00007FF7C79E8EF2+54786]\n",
      "\t(No symbol) [0x00007FF7C7955612]\n",
      "\t(No symbol) [0x00007FF7C780A64B]\n",
      "\t(No symbol) [0x00007FF7C784B79C]\n",
      "\t(No symbol) [0x00007FF7C784B91C]\n",
      "\t(No symbol) [0x00007FF7C7886D87]\n",
      "\t(No symbol) [0x00007FF7C786BEAF]\n",
      "\t(No symbol) [0x00007FF7C7884D02]\n",
      "\t(No symbol) [0x00007FF7C786BC43]\n",
      "\t(No symbol) [0x00007FF7C7840941]\n",
      "\t(No symbol) [0x00007FF7C7841B84]\n",
      "\tGetHandleVerifier [0x00007FF7C7D37F52+3524194]\n",
      "\tGetHandleVerifier [0x00007FF7C7D8D800+3874576]\n",
      "\tGetHandleVerifier [0x00007FF7C7D85D7F+3843215]\n",
      "\tGetHandleVerifier [0x00007FF7C7A85086+694166]\n",
      "\t(No symbol) [0x00007FF7C7960A88]\n",
      "\t(No symbol) [0x00007FF7C795CA94]\n",
      "\t(No symbol) [0x00007FF7C795CBC2]\n",
      "\t(No symbol) [0x00007FF7C794CC83]\n",
      "\tBaseThreadInitThunk [0x00007FF8D109257D+29]\n",
      "\tRtlUserThreadStart [0x00007FF8D2D2AA78+40]\n",
      "\n",
      "2023-11-06 21:28:06,598 - INFO - Processing listing with ID 3\n",
      "2023-11-06 21:28:06,598 - INFO - Processing listing with ID 3\n",
      "2023-11-06 21:28:06,598 - INFO - Processing listing with ID 3\n",
      "2023-11-06 21:28:06,601 - INFO - Email hasn't been sent for listing ID: 3\n",
      "2023-11-06 21:28:06,601 - INFO - Email hasn't been sent for listing ID: 3\n",
      "2023-11-06 21:28:06,601 - INFO - Email hasn't been sent for listing ID: 3\n"
     ]
    },
    {
     "name": "stdout",
     "output_type": "stream",
     "text": [
      "got the specific url:  https://www.huurstunt.nl/studio/huren/in/amsterdam/holendrechtstraat/Q87FY\n"
     ]
    },
    {
     "name": "stderr",
     "output_type": "stream",
     "text": [
      "2023-11-06 21:28:09,100 - ERROR - Error processing listing with ID 3: Message: \n",
      "Stacktrace:\n",
      "\tGetHandleVerifier [0x00007FF7C79E8EF2+54786]\n",
      "\t(No symbol) [0x00007FF7C7955612]\n",
      "\t(No symbol) [0x00007FF7C780A64B]\n",
      "\t(No symbol) [0x00007FF7C784B79C]\n",
      "\t(No symbol) [0x00007FF7C784B91C]\n",
      "\t(No symbol) [0x00007FF7C7886D87]\n",
      "\t(No symbol) [0x00007FF7C786BEAF]\n",
      "\t(No symbol) [0x00007FF7C7884D02]\n",
      "\t(No symbol) [0x00007FF7C786BC43]\n",
      "\t(No symbol) [0x00007FF7C7840941]\n",
      "\t(No symbol) [0x00007FF7C7841B84]\n",
      "\tGetHandleVerifier [0x00007FF7C7D37F52+3524194]\n",
      "\tGetHandleVerifier [0x00007FF7C7D8D800+3874576]\n",
      "\tGetHandleVerifier [0x00007FF7C7D85D7F+3843215]\n",
      "\tGetHandleVerifier [0x00007FF7C7A85086+694166]\n",
      "\t(No symbol) [0x00007FF7C7960A88]\n",
      "\t(No symbol) [0x00007FF7C795CA94]\n",
      "\t(No symbol) [0x00007FF7C795CBC2]\n",
      "\t(No symbol) [0x00007FF7C794CC83]\n",
      "\tBaseThreadInitThunk [0x00007FF8D109257D+29]\n",
      "\tRtlUserThreadStart [0x00007FF8D2D2AA78+40]\n",
      "\n",
      "2023-11-06 21:28:09,100 - ERROR - Error processing listing with ID 3: Message: \n",
      "Stacktrace:\n",
      "\tGetHandleVerifier [0x00007FF7C79E8EF2+54786]\n",
      "\t(No symbol) [0x00007FF7C7955612]\n",
      "\t(No symbol) [0x00007FF7C780A64B]\n",
      "\t(No symbol) [0x00007FF7C784B79C]\n",
      "\t(No symbol) [0x00007FF7C784B91C]\n",
      "\t(No symbol) [0x00007FF7C7886D87]\n",
      "\t(No symbol) [0x00007FF7C786BEAF]\n",
      "\t(No symbol) [0x00007FF7C7884D02]\n",
      "\t(No symbol) [0x00007FF7C786BC43]\n",
      "\t(No symbol) [0x00007FF7C7840941]\n",
      "\t(No symbol) [0x00007FF7C7841B84]\n",
      "\tGetHandleVerifier [0x00007FF7C7D37F52+3524194]\n",
      "\tGetHandleVerifier [0x00007FF7C7D8D800+3874576]\n",
      "\tGetHandleVerifier [0x00007FF7C7D85D7F+3843215]\n",
      "\tGetHandleVerifier [0x00007FF7C7A85086+694166]\n",
      "\t(No symbol) [0x00007FF7C7960A88]\n",
      "\t(No symbol) [0x00007FF7C795CA94]\n",
      "\t(No symbol) [0x00007FF7C795CBC2]\n",
      "\t(No symbol) [0x00007FF7C794CC83]\n",
      "\tBaseThreadInitThunk [0x00007FF8D109257D+29]\n",
      "\tRtlUserThreadStart [0x00007FF8D2D2AA78+40]\n",
      "\n",
      "2023-11-06 21:28:09,100 - ERROR - Error processing listing with ID 3: Message: \n",
      "Stacktrace:\n",
      "\tGetHandleVerifier [0x00007FF7C79E8EF2+54786]\n",
      "\t(No symbol) [0x00007FF7C7955612]\n",
      "\t(No symbol) [0x00007FF7C780A64B]\n",
      "\t(No symbol) [0x00007FF7C784B79C]\n",
      "\t(No symbol) [0x00007FF7C784B91C]\n",
      "\t(No symbol) [0x00007FF7C7886D87]\n",
      "\t(No symbol) [0x00007FF7C786BEAF]\n",
      "\t(No symbol) [0x00007FF7C7884D02]\n",
      "\t(No symbol) [0x00007FF7C786BC43]\n",
      "\t(No symbol) [0x00007FF7C7840941]\n",
      "\t(No symbol) [0x00007FF7C7841B84]\n",
      "\tGetHandleVerifier [0x00007FF7C7D37F52+3524194]\n",
      "\tGetHandleVerifier [0x00007FF7C7D8D800+3874576]\n",
      "\tGetHandleVerifier [0x00007FF7C7D85D7F+3843215]\n",
      "\tGetHandleVerifier [0x00007FF7C7A85086+694166]\n",
      "\t(No symbol) [0x00007FF7C7960A88]\n",
      "\t(No symbol) [0x00007FF7C795CA94]\n",
      "\t(No symbol) [0x00007FF7C795CBC2]\n",
      "\t(No symbol) [0x00007FF7C794CC83]\n",
      "\tBaseThreadInitThunk [0x00007FF8D109257D+29]\n",
      "\tRtlUserThreadStart [0x00007FF8D2D2AA78+40]\n",
      "\n",
      "2023-11-06 21:28:09,102 - INFO - Processing listing with ID 4\n",
      "2023-11-06 21:28:09,102 - INFO - Processing listing with ID 4\n",
      "2023-11-06 21:28:09,102 - INFO - Processing listing with ID 4\n",
      "2023-11-06 21:28:09,108 - INFO - Email hasn't been sent for listing ID: 4\n",
      "2023-11-06 21:28:09,108 - INFO - Email hasn't been sent for listing ID: 4\n",
      "2023-11-06 21:28:09,108 - INFO - Email hasn't been sent for listing ID: 4\n"
     ]
    },
    {
     "name": "stdout",
     "output_type": "stream",
     "text": [
      "got the specific url:  https://www.huurstunt.nl/studio/huren/in/amsterdam/rijswijkstraat/Q82SG\n"
     ]
    },
    {
     "name": "stderr",
     "output_type": "stream",
     "text": [
      "2023-11-06 21:28:11,948 - ERROR - Error processing listing with ID 4: Message: \n",
      "Stacktrace:\n",
      "\tGetHandleVerifier [0x00007FF7C79E8EF2+54786]\n",
      "\t(No symbol) [0x00007FF7C7955612]\n",
      "\t(No symbol) [0x00007FF7C780A64B]\n",
      "\t(No symbol) [0x00007FF7C784B79C]\n",
      "\t(No symbol) [0x00007FF7C784B91C]\n",
      "\t(No symbol) [0x00007FF7C7886D87]\n",
      "\t(No symbol) [0x00007FF7C786BEAF]\n",
      "\t(No symbol) [0x00007FF7C7884D02]\n",
      "\t(No symbol) [0x00007FF7C786BC43]\n",
      "\t(No symbol) [0x00007FF7C7840941]\n",
      "\t(No symbol) [0x00007FF7C7841B84]\n",
      "\tGetHandleVerifier [0x00007FF7C7D37F52+3524194]\n",
      "\tGetHandleVerifier [0x00007FF7C7D8D800+3874576]\n",
      "\tGetHandleVerifier [0x00007FF7C7D85D7F+3843215]\n",
      "\tGetHandleVerifier [0x00007FF7C7A85086+694166]\n",
      "\t(No symbol) [0x00007FF7C7960A88]\n",
      "\t(No symbol) [0x00007FF7C795CA94]\n",
      "\t(No symbol) [0x00007FF7C795CBC2]\n",
      "\t(No symbol) [0x00007FF7C794CC83]\n",
      "\tBaseThreadInitThunk [0x00007FF8D109257D+29]\n",
      "\tRtlUserThreadStart [0x00007FF8D2D2AA78+40]\n",
      "\n",
      "2023-11-06 21:28:11,948 - ERROR - Error processing listing with ID 4: Message: \n",
      "Stacktrace:\n",
      "\tGetHandleVerifier [0x00007FF7C79E8EF2+54786]\n",
      "\t(No symbol) [0x00007FF7C7955612]\n",
      "\t(No symbol) [0x00007FF7C780A64B]\n",
      "\t(No symbol) [0x00007FF7C784B79C]\n",
      "\t(No symbol) [0x00007FF7C784B91C]\n",
      "\t(No symbol) [0x00007FF7C7886D87]\n",
      "\t(No symbol) [0x00007FF7C786BEAF]\n",
      "\t(No symbol) [0x00007FF7C7884D02]\n",
      "\t(No symbol) [0x00007FF7C786BC43]\n",
      "\t(No symbol) [0x00007FF7C7840941]\n",
      "\t(No symbol) [0x00007FF7C7841B84]\n",
      "\tGetHandleVerifier [0x00007FF7C7D37F52+3524194]\n",
      "\tGetHandleVerifier [0x00007FF7C7D8D800+3874576]\n",
      "\tGetHandleVerifier [0x00007FF7C7D85D7F+3843215]\n",
      "\tGetHandleVerifier [0x00007FF7C7A85086+694166]\n",
      "\t(No symbol) [0x00007FF7C7960A88]\n",
      "\t(No symbol) [0x00007FF7C795CA94]\n",
      "\t(No symbol) [0x00007FF7C795CBC2]\n",
      "\t(No symbol) [0x00007FF7C794CC83]\n",
      "\tBaseThreadInitThunk [0x00007FF8D109257D+29]\n",
      "\tRtlUserThreadStart [0x00007FF8D2D2AA78+40]\n",
      "\n",
      "2023-11-06 21:28:11,948 - ERROR - Error processing listing with ID 4: Message: \n",
      "Stacktrace:\n",
      "\tGetHandleVerifier [0x00007FF7C79E8EF2+54786]\n",
      "\t(No symbol) [0x00007FF7C7955612]\n",
      "\t(No symbol) [0x00007FF7C780A64B]\n",
      "\t(No symbol) [0x00007FF7C784B79C]\n",
      "\t(No symbol) [0x00007FF7C784B91C]\n",
      "\t(No symbol) [0x00007FF7C7886D87]\n",
      "\t(No symbol) [0x00007FF7C786BEAF]\n",
      "\t(No symbol) [0x00007FF7C7884D02]\n",
      "\t(No symbol) [0x00007FF7C786BC43]\n",
      "\t(No symbol) [0x00007FF7C7840941]\n",
      "\t(No symbol) [0x00007FF7C7841B84]\n",
      "\tGetHandleVerifier [0x00007FF7C7D37F52+3524194]\n",
      "\tGetHandleVerifier [0x00007FF7C7D8D800+3874576]\n",
      "\tGetHandleVerifier [0x00007FF7C7D85D7F+3843215]\n",
      "\tGetHandleVerifier [0x00007FF7C7A85086+694166]\n",
      "\t(No symbol) [0x00007FF7C7960A88]\n",
      "\t(No symbol) [0x00007FF7C795CA94]\n",
      "\t(No symbol) [0x00007FF7C795CBC2]\n",
      "\t(No symbol) [0x00007FF7C794CC83]\n",
      "\tBaseThreadInitThunk [0x00007FF8D109257D+29]\n",
      "\tRtlUserThreadStart [0x00007FF8D2D2AA78+40]\n",
      "\n"
     ]
    }
   ],
   "source": [
    "\n",
    "try:\n",
    "    listings = extract_store_listings_huurstunt(driver)\n",
    "    logger.info(f'Extracted {len(listings)} listings.')\n",
    "except Exception as e:\n",
    "    logger.error(f\"Error during listing extraction: {e}\")\n",
    "\n",
    "# Step 2: Process each listing\n",
    "for listing in listings[:4]:\n",
    "    listing_id = listing['id']  # Use the 'id' from the extracted data\n",
    "    logger.info(f\"Processing listing with ID {listing_id}\")\n",
    "    \n",
    "    # Check if an email should be sent for this listing\n",
    "    try:\n",
    "         if should_send_email(listing_id):\n",
    "            logger.info(f\"Email hasn't been sent for listing ID: {listing_id}\")\n",
    "            \n",
    "            driver.get(listing['specific_url'])            \n",
    "            owner_email = driver.execute_script('return document.querySelector(\"span[data-select-copy=\\'1\\']\").innerText;')\n",
    "\n",
    "            # Print the extracted email for verification\n",
    "            print(f\"Extracted Email for {listing['address']}: {owner_email}\")\n",
    "            \n",
    "    except NoSuchElementException:\n",
    "        logging.error(f\"Unable to locate email for listing with ID {listing_id}\")\n",
    "        # Send a notification to your OUTLOOK_EMAIL\n",
    "        print('MAKE THE FUNCTION TO SEND THE EMAIL TO YOURSELF')\n",
    "        # send_notification_to_my_email(listing['specific_url'])  # Assuming you have a method to send an email to your address\n",
    "    except Exception as e:\n",
    "        logging.error(f\"No email founded for listing with ID {listing_id}: {e}\")\n",
    "\n",
    "            \n",
    "    # Commented out the actual sending of the email. Uncomment this when you're ready to send.\n",
    "    # \"\"\"\n",
    "    # # Send the notification email\n",
    "    # send_notification_to_owner(listing, address_selector, email_selector, listing['specific_url'])\n",
    "    \n",
    "    # # Mark the email as sent in the database\n",
    "    # mark_email_as_sent(listing_id)\n",
    "    #         \"\"\"\n"
   ]
  },
  {
   "cell_type": "code",
   "execution_count": 25,
   "metadata": {},
   "outputs": [
    {
     "ename": "JavascriptException",
     "evalue": "Message: javascript error: Cannot read properties of null (reading 'innerText')\n  (Session info: chrome=118.0.5993.120)\nStacktrace:\n\tGetHandleVerifier [0x00007FF7C79E8EF2+54786]\n\t(No symbol) [0x00007FF7C7955612]\n\t(No symbol) [0x00007FF7C780A64B]\n\t(No symbol) [0x00007FF7C780F116]\n\t(No symbol) [0x00007FF7C78114AA]\n\t(No symbol) [0x00007FF7C7885394]\n\t(No symbol) [0x00007FF7C786BE6A]\n\t(No symbol) [0x00007FF7C7884D02]\n\t(No symbol) [0x00007FF7C786BC43]\n\t(No symbol) [0x00007FF7C7840941]\n\t(No symbol) [0x00007FF7C7841B84]\n\tGetHandleVerifier [0x00007FF7C7D37F52+3524194]\n\tGetHandleVerifier [0x00007FF7C7D8D800+3874576]\n\tGetHandleVerifier [0x00007FF7C7D85D7F+3843215]\n\tGetHandleVerifier [0x00007FF7C7A85086+694166]\n\t(No symbol) [0x00007FF7C7960A88]\n\t(No symbol) [0x00007FF7C795CA94]\n\t(No symbol) [0x00007FF7C795CBC2]\n\t(No symbol) [0x00007FF7C794CC83]\n\tBaseThreadInitThunk [0x00007FF8D109257D+29]\n\tRtlUserThreadStart [0x00007FF8D2D2AA78+40]\n",
     "output_type": "error",
     "traceback": [
      "\u001b[1;31m---------------------------------------------------------------------------\u001b[0m",
      "\u001b[1;31mJavascriptException\u001b[0m                       Traceback (most recent call last)",
      "\u001b[1;32mc:\\Users\\simon\\Desktop\\ACHIEVE YOUR FUCKING DREAMS\\Scripts\\Amsterdam house\\House-finder\\tests\\test_email_new_listing.ipynb Cell 8\u001b[0m line \u001b[0;36m4\n\u001b[0;32m      <a href='vscode-notebook-cell:/c%3A/Users/simon/Desktop/ACHIEVE%20YOUR%20FUCKING%20DREAMS/Scripts/Amsterdam%20house/House-finder/tests/test_email_new_listing.ipynb#X12sZmlsZQ%3D%3D?line=1'>2</a>\u001b[0m listing_id \u001b[39m=\u001b[39m listing[\u001b[39m'\u001b[39m\u001b[39mid\u001b[39m\u001b[39m'\u001b[39m]\n\u001b[0;32m      <a href='vscode-notebook-cell:/c%3A/Users/simon/Desktop/ACHIEVE%20YOUR%20FUCKING%20DREAMS/Scripts/Amsterdam%20house/House-finder/tests/test_email_new_listing.ipynb#X12sZmlsZQ%3D%3D?line=2'>3</a>\u001b[0m \u001b[39mtry\u001b[39;00m:\n\u001b[1;32m----> <a href='vscode-notebook-cell:/c%3A/Users/simon/Desktop/ACHIEVE%20YOUR%20FUCKING%20DREAMS/Scripts/Amsterdam%20house/House-finder/tests/test_email_new_listing.ipynb#X12sZmlsZQ%3D%3D?line=3'>4</a>\u001b[0m     email \u001b[39m=\u001b[39m driver\u001b[39m.\u001b[39;49mexecute_script(\u001b[39m'\u001b[39;49m\u001b[39mreturn document.querySelector(\u001b[39;49m\u001b[39m\"\u001b[39;49m\u001b[39mspan[data-select-copy=\u001b[39;49m\u001b[39m\\'\u001b[39;49;00m\u001b[39m1\u001b[39;49m\u001b[39m\\'\u001b[39;49;00m\u001b[39m]\u001b[39;49m\u001b[39m\"\u001b[39;49m\u001b[39m).innerText;\u001b[39;49m\u001b[39m'\u001b[39;49m)\n\u001b[0;32m      <a href='vscode-notebook-cell:/c%3A/Users/simon/Desktop/ACHIEVE%20YOUR%20FUCKING%20DREAMS/Scripts/Amsterdam%20house/House-finder/tests/test_email_new_listing.ipynb#X12sZmlsZQ%3D%3D?line=4'>5</a>\u001b[0m     \u001b[39m# email = email_element.text\u001b[39;00m\n\u001b[0;32m      <a href='vscode-notebook-cell:/c%3A/Users/simon/Desktop/ACHIEVE%20YOUR%20FUCKING%20DREAMS/Scripts/Amsterdam%20house/House-finder/tests/test_email_new_listing.ipynb#X12sZmlsZQ%3D%3D?line=5'>6</a>\u001b[0m     \u001b[39mprint\u001b[39m(\u001b[39mf\u001b[39m\u001b[39m\"\u001b[39m\u001b[39mExtracted Email for \u001b[39m\u001b[39m{\u001b[39;00mlisting_id\u001b[39m}\u001b[39;00m\u001b[39m: \u001b[39m\u001b[39m{\u001b[39;00memail\u001b[39m}\u001b[39;00m\u001b[39m\"\u001b[39m)\n",
      "File \u001b[1;32m~\\AppData\\Local\\Packages\\PythonSoftwareFoundation.Python.3.11_qbz5n2kfra8p0\\LocalCache\\local-packages\\Python311\\site-packages\\selenium\\webdriver\\remote\\webdriver.py:404\u001b[0m, in \u001b[0;36mWebDriver.execute_script\u001b[1;34m(self, script, *args)\u001b[0m\n\u001b[0;32m    401\u001b[0m converted_args \u001b[39m=\u001b[39m \u001b[39mlist\u001b[39m(args)\n\u001b[0;32m    402\u001b[0m command \u001b[39m=\u001b[39m Command\u001b[39m.\u001b[39mW3C_EXECUTE_SCRIPT\n\u001b[1;32m--> 404\u001b[0m \u001b[39mreturn\u001b[39;00m \u001b[39mself\u001b[39;49m\u001b[39m.\u001b[39;49mexecute(command, {\u001b[39m\"\u001b[39;49m\u001b[39mscript\u001b[39;49m\u001b[39m\"\u001b[39;49m: script, \u001b[39m\"\u001b[39;49m\u001b[39margs\u001b[39;49m\u001b[39m\"\u001b[39;49m: converted_args})[\u001b[39m\"\u001b[39m\u001b[39mvalue\u001b[39m\u001b[39m\"\u001b[39m]\n",
      "File \u001b[1;32m~\\AppData\\Local\\Packages\\PythonSoftwareFoundation.Python.3.11_qbz5n2kfra8p0\\LocalCache\\local-packages\\Python311\\site-packages\\selenium\\webdriver\\remote\\webdriver.py:344\u001b[0m, in \u001b[0;36mWebDriver.execute\u001b[1;34m(self, driver_command, params)\u001b[0m\n\u001b[0;32m    342\u001b[0m response \u001b[39m=\u001b[39m \u001b[39mself\u001b[39m\u001b[39m.\u001b[39mcommand_executor\u001b[39m.\u001b[39mexecute(driver_command, params)\n\u001b[0;32m    343\u001b[0m \u001b[39mif\u001b[39;00m response:\n\u001b[1;32m--> 344\u001b[0m     \u001b[39mself\u001b[39;49m\u001b[39m.\u001b[39;49merror_handler\u001b[39m.\u001b[39;49mcheck_response(response)\n\u001b[0;32m    345\u001b[0m     response[\u001b[39m\"\u001b[39m\u001b[39mvalue\u001b[39m\u001b[39m\"\u001b[39m] \u001b[39m=\u001b[39m \u001b[39mself\u001b[39m\u001b[39m.\u001b[39m_unwrap_value(response\u001b[39m.\u001b[39mget(\u001b[39m\"\u001b[39m\u001b[39mvalue\u001b[39m\u001b[39m\"\u001b[39m, \u001b[39mNone\u001b[39;00m))\n\u001b[0;32m    346\u001b[0m     \u001b[39mreturn\u001b[39;00m response\n",
      "File \u001b[1;32m~\\AppData\\Local\\Packages\\PythonSoftwareFoundation.Python.3.11_qbz5n2kfra8p0\\LocalCache\\local-packages\\Python311\\site-packages\\selenium\\webdriver\\remote\\errorhandler.py:229\u001b[0m, in \u001b[0;36mErrorHandler.check_response\u001b[1;34m(self, response)\u001b[0m\n\u001b[0;32m    227\u001b[0m         alert_text \u001b[39m=\u001b[39m value[\u001b[39m\"\u001b[39m\u001b[39malert\u001b[39m\u001b[39m\"\u001b[39m]\u001b[39m.\u001b[39mget(\u001b[39m\"\u001b[39m\u001b[39mtext\u001b[39m\u001b[39m\"\u001b[39m)\n\u001b[0;32m    228\u001b[0m     \u001b[39mraise\u001b[39;00m exception_class(message, screen, stacktrace, alert_text)  \u001b[39m# type: ignore[call-arg]  # mypy is not smart enough here\u001b[39;00m\n\u001b[1;32m--> 229\u001b[0m \u001b[39mraise\u001b[39;00m exception_class(message, screen, stacktrace)\n",
      "\u001b[1;31mJavascriptException\u001b[0m: Message: javascript error: Cannot read properties of null (reading 'innerText')\n  (Session info: chrome=118.0.5993.120)\nStacktrace:\n\tGetHandleVerifier [0x00007FF7C79E8EF2+54786]\n\t(No symbol) [0x00007FF7C7955612]\n\t(No symbol) [0x00007FF7C780A64B]\n\t(No symbol) [0x00007FF7C780F116]\n\t(No symbol) [0x00007FF7C78114AA]\n\t(No symbol) [0x00007FF7C7885394]\n\t(No symbol) [0x00007FF7C786BE6A]\n\t(No symbol) [0x00007FF7C7884D02]\n\t(No symbol) [0x00007FF7C786BC43]\n\t(No symbol) [0x00007FF7C7840941]\n\t(No symbol) [0x00007FF7C7841B84]\n\tGetHandleVerifier [0x00007FF7C7D37F52+3524194]\n\tGetHandleVerifier [0x00007FF7C7D8D800+3874576]\n\tGetHandleVerifier [0x00007FF7C7D85D7F+3843215]\n\tGetHandleVerifier [0x00007FF7C7A85086+694166]\n\t(No symbol) [0x00007FF7C7960A88]\n\t(No symbol) [0x00007FF7C795CA94]\n\t(No symbol) [0x00007FF7C795CBC2]\n\t(No symbol) [0x00007FF7C794CC83]\n\tBaseThreadInitThunk [0x00007FF8D109257D+29]\n\tRtlUserThreadStart [0x00007FF8D2D2AA78+40]\n"
     ]
    }
   ],
   "source": [
    "for listing in listings[:4]:\n",
    "    listing_id = listing['id']\n",
    "    try:\n",
    "        email = driver.execute_script('return document.querySelector(\"span[data-select-copy=\\'1\\']\").innerText;')\n",
    "        # email = email_element.text\n",
    "        print(f\"Extracted Email for {listing_id}: {email}\")\n",
    "    except NoSuchElementException:\n",
    "        print(f\"Error: Couldn't extract email for {listing_id}\")"
   ]
  },
  {
   "cell_type": "code",
   "execution_count": 46,
   "metadata": {},
   "outputs": [
    {
     "data": {
      "text/plain": [
       "'info.nl@plazaresidentservices.com'"
      ]
     },
     "execution_count": 46,
     "metadata": {},
     "output_type": "execute_result"
    }
   ],
   "source": [
    "email = driver.execute_script('return document.querySelector(\"span[data-select-copy=\\'1\\']\").innerText;')\n",
    "email\n"
   ]
  },
  {
   "cell_type": "code",
   "execution_count": null,
   "metadata": {},
   "outputs": [],
   "source": [
    "import smtplib\n",
    "from email.message import EmailMessage\n",
    "\n",
    "def send_notification_email():\n",
    "    msg = EmailMessage()\n",
    "    msg.set_content(\"The email element was not found on the page.\")\n",
    "    msg[\"Subject\"] = \"Email Extraction Error!\"\n",
    "    msg[\"From\"] = \"your_email_address\"\n",
    "    msg[\"To\"] = \"your_outlook_email\"\n",
    "\n",
    "    # Establish a connection to your SMTP server\n",
    "    with smtplib.SMTP(\"your_smtp_server\", your_smtp_port) as server:\n",
    "        server.login(\"your_email_address\", \"your_email_password\")\n",
    "        server.send_message(msg)\n"
   ]
  }
 ],
 "metadata": {
  "kernelspec": {
   "display_name": "Python 3",
   "language": "python",
   "name": "python3"
  },
  "language_info": {
   "codemirror_mode": {
    "name": "ipython",
    "version": 3
   },
   "file_extension": ".py",
   "mimetype": "text/x-python",
   "name": "python",
   "nbconvert_exporter": "python",
   "pygments_lexer": "ipython3",
   "version": "3.11.6"
  }
 },
 "nbformat": 4,
 "nbformat_minor": 2
}
