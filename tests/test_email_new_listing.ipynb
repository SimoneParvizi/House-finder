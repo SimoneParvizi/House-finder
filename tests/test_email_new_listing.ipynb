{
 "cells": [
  {
   "cell_type": "code",
   "execution_count": 1,
   "metadata": {},
   "outputs": [],
   "source": [
    "import os\n",
    "os.chdir('..')\n",
    "import sqlite3\n",
    "from dotenv import load_dotenv\n",
    "from selenium import webdriver\n",
    "from helper import set_filters_huurstunt\n",
    "from helper_database import should_send_email, mark_email_as_sent\n",
    "from selenium.webdriver.common.by import By\n",
    "from selenium.common.exceptions import NoSuchElementException\n",
    "from helper_database import extract_store_listings_huurstunt\n",
    "\n",
    "import logging"
   ]
  },
  {
   "cell_type": "code",
   "execution_count": 4,
   "metadata": {},
   "outputs": [],
   "source": [
    "logger = logging.getLogger()\n",
    "logger.setLevel(logging.INFO)\n",
    "\n",
    "handler = logging.StreamHandler()\n",
    "handler.setLevel(logging.INFO)\n",
    "formatter = logging.Formatter('%(asctime)s - %(levelname)s - %(message)s')\n",
    "handler.setFormatter(formatter)\n",
    "logger.addHandler(handler)\n",
    "load_dotenv()\n",
    "\n",
    "HUURSTUNT_USERNAME = os.getenv('HUURSTUNT_USERNAME')\n",
    "HUURSTUNT_PASSWORD = os.getenv('HUURSTUNT_PASSWORD')\n",
    "\n",
    "DATABASE_NAME = \"listings.db\"\n",
    "\n",
    "\n",
    "chrome_options = webdriver.ChromeOptions()\n",
    "chrome_options.debugger_address = \"127.0.0.1:9222\"\n",
    "driver = webdriver.Chrome(options=chrome_options)"
   ]
  },
  {
   "cell_type": "code",
   "execution_count": 3,
   "metadata": {},
   "outputs": [],
   "source": [
    "driver.get(\"https://www.huurstunt.nl/\")\n",
    "set_filters_huurstunt(driver, 100, 1500, 'Amsterdam')\n",
    "listings = extract_store_listings_huurstunt(driver)"
   ]
  },
  {
   "cell_type": "code",
   "execution_count": 3,
   "metadata": {},
   "outputs": [
    {
     "name": "stdout",
     "output_type": "stream",
     "text": [
      "Email hasn't been sent for listing ID: 1\n",
      "Email hasn't been sent for listing ID: 2\n",
      "Email hasn't been sent for listing ID: 3\n",
      "Email hasn't been sent for listing ID: 4\n",
      "Email hasn't been sent for listing ID: 6\n",
      "Email hasn't been sent for listing ID: 7\n",
      "Email hasn't been sent for listing ID: 8\n",
      "Email hasn't been sent for listing ID: 10\n",
      "Email hasn't been sent for listing ID: 11\n",
      "Email hasn't been sent for listing ID: 12\n",
      "Email hasn't been sent for listing ID: 13\n",
      "Email hasn't been sent for listing ID: 15\n",
      "Email hasn't been sent for listing ID: 16\n",
      "Email hasn't been sent for listing ID: 17\n",
      "Email hasn't been sent for listing ID: 18\n",
      "Email hasn't been sent for listing ID: 19\n",
      "Email hasn't been sent for listing ID: 20\n"
     ]
    }
   ],
   "source": [
    "listings = extract_store_listings_huurstunt(driver)\n",
    "for listing in listings:\n",
    "    listing_id = listing['id']  # assuming each listing is a dictionary with an 'id' key\n",
    "    if should_send_email    (listing_id):\n",
    "        print(f\"Email hasn't been sent for listing ID: {listing_id}\")\n",
    "    else:\n",
    "        print(f\"Email has already been sent for listing ID: {listing_id}\")\n"
   ]
  },
  {
   "cell_type": "code",
   "execution_count": 9,
   "metadata": {},
   "outputs": [
    {
     "name": "stderr",
     "output_type": "stream",
     "text": [
      "2023-10-31 23:07:44,264 - INFO - Extracted 17 listings.\n",
      "2023-10-31 23:07:44,876 - ERROR - Error processing listing with ID 1: name 'email_xpath' is not defined\n",
      "2023-10-31 23:07:45,515 - ERROR - Error processing listing with ID 2: name 'email_xpath' is not defined\n",
      "2023-10-31 23:07:46,049 - ERROR - Error processing listing with ID 3: name 'email_xpath' is not defined\n",
      "2023-10-31 23:07:46,698 - ERROR - Error processing listing with ID 4: name 'email_xpath' is not defined\n",
      "2023-10-31 23:07:47,343 - ERROR - Error processing listing with ID 6: name 'email_xpath' is not defined\n",
      "2023-10-31 23:07:47,867 - ERROR - Error processing listing with ID 7: name 'email_xpath' is not defined\n",
      "2023-10-31 23:07:48,819 - ERROR - Error processing listing with ID 8: name 'email_xpath' is not defined\n",
      "2023-10-31 23:07:49,791 - ERROR - Error processing listing with ID 10: name 'email_xpath' is not defined\n",
      "2023-10-31 23:07:50,602 - ERROR - Error processing listing with ID 11: name 'email_xpath' is not defined\n",
      "2023-10-31 23:07:51,200 - ERROR - Error processing listing with ID 12: name 'email_xpath' is not defined\n",
      "2023-10-31 23:07:51,783 - ERROR - Error processing listing with ID 13: name 'email_xpath' is not defined\n",
      "2023-10-31 23:07:52,430 - ERROR - Error processing listing with ID 15: name 'email_xpath' is not defined\n",
      "2023-10-31 23:07:52,968 - ERROR - Error processing listing with ID 16: name 'email_xpath' is not defined\n",
      "2023-10-31 23:07:53,568 - ERROR - Error processing listing with ID 17: name 'email_xpath' is not defined\n",
      "2023-10-31 23:07:54,153 - ERROR - Error processing listing with ID 18: name 'email_xpath' is not defined\n",
      "2023-10-31 23:07:54,913 - ERROR - Error processing listing with ID 19: name 'email_xpath' is not defined\n",
      "2023-10-31 23:07:55,499 - ERROR - Error processing listing with ID 20: name 'email_xpath' is not defined\n"
     ]
    }
   ],
   "source": [
    "# Step 1: Extract listings\n",
    "try:\n",
    "    listings = extract_store_listings_huurstunt(driver)\n",
    "    logging.info(f'Extracted {len(listings)} listings.')\n",
    "except Exception as e:\n",
    "    logging.error(f\"Error during listing extraction: {e}\")\n",
    "\n",
    "# Step 2: Process each listing\n",
    "for listing in listings:\n",
    "    listing_id = listing['id']  # Use the 'id' from the extracted data\n",
    "    \n",
    "    # Check if an email should be sent for this listing\n",
    "    try:\n",
    "        if should_send_email(listing_id):\n",
    "            \n",
    "            # Navigate to the specific URL of the listing\n",
    "            driver.get(listing['specific_url'])\n",
    "            \n",
    "            # Extract owner email from the XPath (assuming `email_xpath` is the XPath for the email)\n",
    "            email_element = driver.find_element(By.XPATH, email_xpath)\n",
    "            owner_email = email_element.text\n",
    "            \n",
    "            # Send the notification email\n",
    "            send_notification_to_owner(listing, address_selector, email_selector, listing['specific_url'])\n",
    "            \n",
    "            # Mark the email as sent in the database\n",
    "            mark_email_as_sent(listing_id)\n",
    "    except Exception as e:\n",
    "        logging.error(f\"Error processing listing with ID {listing_id}: {e}\")\n"
   ]
  },
  {
   "cell_type": "code",
   "execution_count": 28,
   "metadata": {},
   "outputs": [
    {
     "name": "stderr",
     "output_type": "stream",
     "text": [
      "2023-10-31 23:26:53,499 - INFO - Extracted 19 listings.\n",
      "2023-10-31 23:26:53,499 - INFO - Processing listing with ID 1\n",
      "2023-10-31 23:26:53,506 - INFO - Email hasn't been sent for listing ID: 1\n"
     ]
    },
    {
     "name": "stdout",
     "output_type": "stream",
     "text": [
      "got the specific url:  https://www.huurstunt.nl/kamer/huren/in/amsterdam/wijttenbachstraat/Q1FYm\n"
     ]
    },
    {
     "ename": "NameError",
     "evalue": "name 'NoSuchElementException' is not defined",
     "output_type": "error",
     "traceback": [
      "\u001b[1;31m---------------------------------------------------------------------------\u001b[0m",
      "\u001b[1;31mJavascriptException\u001b[0m                       Traceback (most recent call last)",
      "\u001b[1;32mc:\\Users\\simon\\Desktop\\ACHIEVE YOUR FUCKING DREAMS\\Scripts\\Amsterdam house\\House-finder\\tests\\test_email_new_listing.ipynb Cell 6\u001b[0m line \u001b[0;36m2\n\u001b[0;32m     <a href='vscode-notebook-cell:/c%3A/Users/simon/Desktop/ACHIEVE%20YOUR%20FUCKING%20DREAMS/Scripts/Amsterdam%20house/House-finder/tests/test_email_new_listing.ipynb#X10sZmlsZQ%3D%3D?line=22'>23</a>\u001b[0m \u001b[39m# Extract owner email from the XPath (assuming `email_xpath` is the XPath for the email)\u001b[39;00m\n\u001b[0;32m     <a href='vscode-notebook-cell:/c%3A/Users/simon/Desktop/ACHIEVE%20YOUR%20FUCKING%20DREAMS/Scripts/Amsterdam%20house/House-finder/tests/test_email_new_listing.ipynb#X10sZmlsZQ%3D%3D?line=23'>24</a>\u001b[0m \u001b[39m# email_element = driver.find_element(By.XPATH, \"//a[contains(@href, 'mailto:')]/span[@data-select-copy='1']\")\u001b[39;00m\n\u001b[0;32m     <a href='vscode-notebook-cell:/c%3A/Users/simon/Desktop/ACHIEVE%20YOUR%20FUCKING%20DREAMS/Scripts/Amsterdam%20house/House-finder/tests/test_email_new_listing.ipynb#X10sZmlsZQ%3D%3D?line=24'>25</a>\u001b[0m \u001b[39m# owner_email = email_element.text\u001b[39;00m\n\u001b[1;32m---> <a href='vscode-notebook-cell:/c%3A/Users/simon/Desktop/ACHIEVE%20YOUR%20FUCKING%20DREAMS/Scripts/Amsterdam%20house/House-finder/tests/test_email_new_listing.ipynb#X10sZmlsZQ%3D%3D?line=26'>27</a>\u001b[0m owner_email \u001b[39m=\u001b[39m driver\u001b[39m.\u001b[39;49mexecute_script(\u001b[39m'\u001b[39;49m\u001b[39mreturn document.querySelector(\u001b[39;49m\u001b[39m\"\u001b[39;49m\u001b[39mspan[data-select-copy=\u001b[39;49m\u001b[39m\\'\u001b[39;49;00m\u001b[39m1\u001b[39;49m\u001b[39m\\'\u001b[39;49;00m\u001b[39m]\u001b[39;49m\u001b[39m\"\u001b[39;49m\u001b[39m).innerText;\u001b[39;49m\u001b[39m'\u001b[39;49m)\n\u001b[0;32m     <a href='vscode-notebook-cell:/c%3A/Users/simon/Desktop/ACHIEVE%20YOUR%20FUCKING%20DREAMS/Scripts/Amsterdam%20house/House-finder/tests/test_email_new_listing.ipynb#X10sZmlsZQ%3D%3D?line=29'>30</a>\u001b[0m \u001b[39m# Print the extracted email for verification\u001b[39;00m\n",
      "File \u001b[1;32m~\\AppData\\Local\\Packages\\PythonSoftwareFoundation.Python.3.11_qbz5n2kfra8p0\\LocalCache\\local-packages\\Python311\\site-packages\\selenium\\webdriver\\remote\\webdriver.py:404\u001b[0m, in \u001b[0;36mWebDriver.execute_script\u001b[1;34m(self, script, *args)\u001b[0m\n\u001b[0;32m    402\u001b[0m command \u001b[39m=\u001b[39m Command\u001b[39m.\u001b[39mW3C_EXECUTE_SCRIPT\n\u001b[1;32m--> 404\u001b[0m \u001b[39mreturn\u001b[39;00m \u001b[39mself\u001b[39;49m\u001b[39m.\u001b[39;49mexecute(command, {\u001b[39m\"\u001b[39;49m\u001b[39mscript\u001b[39;49m\u001b[39m\"\u001b[39;49m: script, \u001b[39m\"\u001b[39;49m\u001b[39margs\u001b[39;49m\u001b[39m\"\u001b[39;49m: converted_args})[\u001b[39m\"\u001b[39m\u001b[39mvalue\u001b[39m\u001b[39m\"\u001b[39m]\n",
      "File \u001b[1;32m~\\AppData\\Local\\Packages\\PythonSoftwareFoundation.Python.3.11_qbz5n2kfra8p0\\LocalCache\\local-packages\\Python311\\site-packages\\selenium\\webdriver\\remote\\webdriver.py:344\u001b[0m, in \u001b[0;36mWebDriver.execute\u001b[1;34m(self, driver_command, params)\u001b[0m\n\u001b[0;32m    343\u001b[0m \u001b[39mif\u001b[39;00m response:\n\u001b[1;32m--> 344\u001b[0m     \u001b[39mself\u001b[39;49m\u001b[39m.\u001b[39;49merror_handler\u001b[39m.\u001b[39;49mcheck_response(response)\n\u001b[0;32m    345\u001b[0m     response[\u001b[39m\"\u001b[39m\u001b[39mvalue\u001b[39m\u001b[39m\"\u001b[39m] \u001b[39m=\u001b[39m \u001b[39mself\u001b[39m\u001b[39m.\u001b[39m_unwrap_value(response\u001b[39m.\u001b[39mget(\u001b[39m\"\u001b[39m\u001b[39mvalue\u001b[39m\u001b[39m\"\u001b[39m, \u001b[39mNone\u001b[39;00m))\n",
      "File \u001b[1;32m~\\AppData\\Local\\Packages\\PythonSoftwareFoundation.Python.3.11_qbz5n2kfra8p0\\LocalCache\\local-packages\\Python311\\site-packages\\selenium\\webdriver\\remote\\errorhandler.py:229\u001b[0m, in \u001b[0;36mErrorHandler.check_response\u001b[1;34m(self, response)\u001b[0m\n\u001b[0;32m    228\u001b[0m     \u001b[39mraise\u001b[39;00m exception_class(message, screen, stacktrace, alert_text)  \u001b[39m# type: ignore[call-arg]  # mypy is not smart enough here\u001b[39;00m\n\u001b[1;32m--> 229\u001b[0m \u001b[39mraise\u001b[39;00m exception_class(message, screen, stacktrace)\n",
      "\u001b[1;31mJavascriptException\u001b[0m: Message: javascript error: Cannot read properties of null (reading 'innerText')\n  (Session info: chrome=118.0.5993.118)\nStacktrace:\n\tGetHandleVerifier [0x00007FF7C79E8EF2+54786]\n\t(No symbol) [0x00007FF7C7955612]\n\t(No symbol) [0x00007FF7C780A64B]\n\t(No symbol) [0x00007FF7C780F116]\n\t(No symbol) [0x00007FF7C78114AA]\n\t(No symbol) [0x00007FF7C7885394]\n\t(No symbol) [0x00007FF7C786BE6A]\n\t(No symbol) [0x00007FF7C7884D02]\n\t(No symbol) [0x00007FF7C786BC43]\n\t(No symbol) [0x00007FF7C7840941]\n\t(No symbol) [0x00007FF7C7841B84]\n\tGetHandleVerifier [0x00007FF7C7D37F52+3524194]\n\tGetHandleVerifier [0x00007FF7C7D8D800+3874576]\n\tGetHandleVerifier [0x00007FF7C7D85D7F+3843215]\n\tGetHandleVerifier [0x00007FF7C7A85086+694166]\n\t(No symbol) [0x00007FF7C7960A88]\n\t(No symbol) [0x00007FF7C795CA94]\n\t(No symbol) [0x00007FF7C795CBC2]\n\t(No symbol) [0x00007FF7C794CC83]\n\tBaseThreadInitThunk [0x00007FF8D109257D+29]\n\tRtlUserThreadStart [0x00007FF8D2D2AA78+40]\n",
      "\nDuring handling of the above exception, another exception occurred:\n",
      "\u001b[1;31mNameError\u001b[0m                                 Traceback (most recent call last)",
      "\u001b[1;32mc:\\Users\\simon\\Desktop\\ACHIEVE YOUR FUCKING DREAMS\\Scripts\\Amsterdam house\\House-finder\\tests\\test_email_new_listing.ipynb Cell 6\u001b[0m line \u001b[0;36m3\n\u001b[0;32m     <a href='vscode-notebook-cell:/c%3A/Users/simon/Desktop/ACHIEVE%20YOUR%20FUCKING%20DREAMS/Scripts/Amsterdam%20house/House-finder/tests/test_email_new_listing.ipynb#X10sZmlsZQ%3D%3D?line=29'>30</a>\u001b[0m         \u001b[39m# Print the extracted email for verification\u001b[39;00m\n\u001b[0;32m     <a href='vscode-notebook-cell:/c%3A/Users/simon/Desktop/ACHIEVE%20YOUR%20FUCKING%20DREAMS/Scripts/Amsterdam%20house/House-finder/tests/test_email_new_listing.ipynb#X10sZmlsZQ%3D%3D?line=30'>31</a>\u001b[0m         \u001b[39mprint\u001b[39m(\u001b[39mf\u001b[39m\u001b[39m\"\u001b[39m\u001b[39mExtracted Email for \u001b[39m\u001b[39m{\u001b[39;00mlisting[\u001b[39m'\u001b[39m\u001b[39maddress\u001b[39m\u001b[39m'\u001b[39m]\u001b[39m}\u001b[39;00m\u001b[39m: \u001b[39m\u001b[39m{\u001b[39;00mowner_email\u001b[39m}\u001b[39;00m\u001b[39m\"\u001b[39m)\n\u001b[1;32m---> <a href='vscode-notebook-cell:/c%3A/Users/simon/Desktop/ACHIEVE%20YOUR%20FUCKING%20DREAMS/Scripts/Amsterdam%20house/House-finder/tests/test_email_new_listing.ipynb#X10sZmlsZQ%3D%3D?line=32'>33</a>\u001b[0m \u001b[39mexcept\u001b[39;00m NoSuchElementException:\n\u001b[0;32m     <a href='vscode-notebook-cell:/c%3A/Users/simon/Desktop/ACHIEVE%20YOUR%20FUCKING%20DREAMS/Scripts/Amsterdam%20house/House-finder/tests/test_email_new_listing.ipynb#X10sZmlsZQ%3D%3D?line=33'>34</a>\u001b[0m     logging\u001b[39m.\u001b[39merror(\u001b[39mf\u001b[39m\u001b[39m\"\u001b[39m\u001b[39mUnable to locate email for listing with ID \u001b[39m\u001b[39m{\u001b[39;00mlisting_id\u001b[39m}\u001b[39;00m\u001b[39m\"\u001b[39m)\n\u001b[0;32m     <a href='vscode-notebook-cell:/c%3A/Users/simon/Desktop/ACHIEVE%20YOUR%20FUCKING%20DREAMS/Scripts/Amsterdam%20house/House-finder/tests/test_email_new_listing.ipynb#X10sZmlsZQ%3D%3D?line=34'>35</a>\u001b[0m     \u001b[39m# Send a notification to your OUTLOOK_EMAIL\u001b[39;00m\n",
      "\u001b[1;31mNameError\u001b[0m: name 'NoSuchElementException' is not defined"
     ]
    }
   ],
   "source": [
    "# Step 1: Extract listings\n",
    "#driver.get(\"https://www.huurstunt.nl/studio/huren/amsterdam/100-1500/\")\n",
    "try:\n",
    "    listings = extract_store_listings_huurstunt(driver)\n",
    "    logging.info(f'Extracted {len(listings)} listings.')\n",
    "except Exception as e:\n",
    "    logging.error(f\"Error during listing extraction: {e}\")\n",
    "\n",
    "# Step 2: Process each listing\n",
    "for listing in listings[:4]:\n",
    "    listing_id = listing['id']  # Use the 'id' from the extracted data\n",
    "    logging.info(f\"Processing listing with ID {listing_id}\")\n",
    "    \n",
    "    # Check if an email should be sent for this listing\n",
    "    try:\n",
    "        if should_send_email(listing_id):\n",
    "            logging.info(f\"Email hasn't been sent for listing ID: {listing_id}\")\n",
    "            \n",
    "            # Navigate to the specific URL of the listing\n",
    "            driver.get(listing['specific_url'])\n",
    "            print('got the specific url: ', listing['specific_url'])\n",
    "            \n",
    "            # Extract owner email from the XPath (assuming `email_xpath` is the XPath for the email)\n",
    "            email_element = driver.find_element(By.XPATH, \"//a[contains(@href, 'mailto:')]/span[@data-select-copy='1']\")\n",
    "            owner_email = email_element.text\n",
    "\n",
    "            # Print the extracted email for verification\n",
    "            print(f\"Extracted Email for {listing['address']}: {owner_email}\")\n",
    "            \n",
    "    except NoSuchElementException:\n",
    "        logging.error(f\"Unable to locate email for listing with ID {listing_id}\")\n",
    "        # Send a notification to your OUTLOOK_EMAIL\n",
    "        print('MAKE THE FUNCTION TO SEND THE EMAIL TO YOURSELF')\n",
    "        # send_notification_to_my_email(listing['specific_url'])  # Assuming you have a method to send an email to your address\n",
    "    except Exception as e:\n",
    "        logging.error(f\"Error processing listing with ID {listing_id}: {e}\")\n",
    "\n",
    "            \n",
    "    # Commented out the actual sending of the email. Uncomment this when you're ready to send.\n",
    "    # \"\"\"\n",
    "    # # Send the notification email\n",
    "    # send_notification_to_owner(listing, address_selector, email_selector, listing['specific_url'])\n",
    "    \n",
    "    # # Mark the email as sent in the database\n",
    "    # mark_email_as_sent(listing_id)\n",
    "    #         \"\"\"\n"
   ]
  },
  {
   "cell_type": "code",
   "execution_count": 26,
   "metadata": {},
   "outputs": [
    {
     "name": "stdout",
     "output_type": "stream",
     "text": [
      "Extracted Email for 1: info@hendrikshousing.nl\n",
      "Extracted Email for 2: info@hendrikshousing.nl\n",
      "Extracted Email for 3: info@hendrikshousing.nl\n",
      "Extracted Email for 4: info@hendrikshousing.nl\n"
     ]
    }
   ],
   "source": [
    "for listing in listings[:4]:\n",
    "    listing_id = listing['id']\n",
    "    try:\n",
    "        email = driver.execute_script('return document.querySelector(\"span[data-select-copy=\\'1\\']\").innerText;')\n",
    "        # email = email_element.text\n",
    "        print(f\"Extracted Email for {listing_id}: {email}\")\n",
    "    except NoSuchElementException:\n",
    "        print(f\"Error: Couldn't extract email for {listing_id}\")"
   ]
  },
  {
   "cell_type": "code",
   "execution_count": 24,
   "metadata": {},
   "outputs": [
    {
     "data": {
      "text/plain": [
       "'info@hendrikshousing.nl'"
      ]
     },
     "execution_count": 24,
     "metadata": {},
     "output_type": "execute_result"
    }
   ],
   "source": [
    "email = driver.execute_script('return document.querySelector(\"span[data-select-copy=\\'1\\']\").innerText;')\n",
    "email\n"
   ]
  },
  {
   "cell_type": "code",
   "execution_count": null,
   "metadata": {},
   "outputs": [],
   "source": [
    "import smtplib\n",
    "from email.message import EmailMessage\n",
    "\n",
    "def send_notification_email():\n",
    "    msg = EmailMessage()\n",
    "    msg.set_content(\"The email element was not found on the page.\")\n",
    "    msg[\"Subject\"] = \"Email Extraction Error!\"\n",
    "    msg[\"From\"] = \"your_email_address\"\n",
    "    msg[\"To\"] = \"your_outlook_email\"\n",
    "\n",
    "    # Establish a connection to your SMTP server\n",
    "    with smtplib.SMTP(\"your_smtp_server\", your_smtp_port) as server:\n",
    "        server.login(\"your_email_address\", \"your_email_password\")\n",
    "        server.send_message(msg)\n"
   ]
  }
 ],
 "metadata": {
  "kernelspec": {
   "display_name": "Python 3",
   "language": "python",
   "name": "python3"
  },
  "language_info": {
   "codemirror_mode": {
    "name": "ipython",
    "version": 3
   },
   "file_extension": ".py",
   "mimetype": "text/x-python",
   "name": "python",
   "nbconvert_exporter": "python",
   "pygments_lexer": "ipython3",
   "version": "3.11.6"
  }
 },
 "nbformat": 4,
 "nbformat_minor": 2
}
