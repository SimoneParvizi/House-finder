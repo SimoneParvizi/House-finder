{
 "cells": [
  {
   "cell_type": "code",
   "execution_count": 1,
   "metadata": {},
   "outputs": [],
   "source": [
    "import os\n",
    "os.chdir('..')\n",
    "from helper_database import get_all_listings, get_columns_of_table, get_all_tables\n",
    "\n",
    "DATABASE_NAME = \"listings.db\"\n"
   ]
  },
  {
   "cell_type": "code",
   "execution_count": 4,
   "metadata": {},
   "outputs": [
    {
     "name": "stdout",
     "output_type": "stream",
     "text": [
      "('123est', 1500.0, 30.0, 'https://example.com', 'https://example.com/listing')\n",
      "('123 test', 1500.0, 30.0, 'https://example.com', 'https://example.com/listing1')\n",
      "('123 test', 1500.0, 30.0, 'https://example.com', 'https://example.com/listing12')\n",
      "('123 test', 1500.0, 30.0, 'https://exsample.com', 'https://exsample.com/listing12')\n",
      "('1091 TT Amsterdam (Weesperzijde Midden/Zuid)', '€ 1.000', '29 m2', 'https://www.huurstunt.nl', 'https://www.huurstunt.nl/studio/huren/in/amsterdam/jan-bernardusstraat/PZmng')\n",
      "('1509 BS Zaandam (Zaanse Schans)', '€ 945', '34 m2', 'https://www.huurstunt.nl', 'https://www.huurstunt.nl/studio/huren/in/zaandam/leeghwaterweg/PyvB2')\n",
      "('1505 DE Zaandam (Bomenbuurt)', '€ 975', '40 m2', 'https://www.huurstunt.nl', 'https://www.huurstunt.nl/studio/huren/in/zaandam/zuiddijk/PyLkO')\n",
      "('1091 BD Amsterdam (Oosterparkbuurt Noordwest)', '€ 1.350', '32 m2', 'https://www.huurstunt.nl', 'https://www.huurstunt.nl/studio/huren/in/amsterdam/tilanusstraat/PyAIC')\n",
      "('1071 JZ Amsterdam (Cornelis Schuytbuurt)', '€ 1.500', '29 m2', 'https://www.huurstunt.nl', 'https://www.huurstunt.nl/studio/huren/in/amsterdam/banstraat/Pwr2n')\n",
      "('1062 JB Amsterdam (Delflandpleinbuurt West)', '€ 1.390', '36 m2', 'https://www.huurstunt.nl', 'https://www.huurstunt.nl/studio/huren/in/amsterdam/voorburgstraat/Pu2IC')\n",
      "('1062 EV Amsterdam (Delflandpleinbuurt West)', '€ 948', '-', 'https://www.huurstunt.nl', 'https://www.huurstunt.nl/studio/huren/in/amsterdam/rijswijkstraat/PtxUw')\n",
      "('1115 TA Duivendrecht', '€ 692', '-', 'https://www.huurstunt.nl', 'https://www.huurstunt.nl/studio/huren/in/duivendrecht/lunaweg/PtxUx')\n",
      "('1115 TA Duivendrecht', '€ 1.250', '28 m2', 'https://www.huurstunt.nl', 'https://www.huurstunt.nl/studio/huren/in/duivendrecht/lunaweg/PtLw9')\n",
      "('1103 KB Amsterdam (G-buurt Oost)', '€ 1.350', '55 m2', 'https://www.huurstunt.nl', 'https://www.huurstunt.nl/studio/huren/in/amsterdam/gouden-leeuw/PssdN')\n",
      "('1055 AA Amsterdam (Robert Scottbuurt West)', '€ 1.200', '30 m2', 'https://www.huurstunt.nl', 'https://www.huurstunt.nl/studio/huren/in/amsterdam/bos-en-lommerplantsoen/PrdeC')\n",
      "('1058 VM Amsterdam (Paramariboplein e.o.)', '€ 1.350', '28 m2', 'https://www.huurstunt.nl', 'https://www.huurstunt.nl/studio/huren/in/amsterdam/paramaribostraat/PqS8g')\n",
      "('1015 WE Amsterdam (Zaagpoortbuurt)', '€ 1.450', '27 m2', 'https://www.huurstunt.nl', 'https://www.huurstunt.nl/studio/huren/in/amsterdam/marnixstraat/PpaJU')\n",
      "('1054 XA Amsterdam (Cremerbuurt Oost)', '€ 900', '57 m2', 'https://www.huurstunt.nl', 'https://www.huurstunt.nl/studio/huren/in/amsterdam/kanaalstraat/PoZyi')\n",
      "('1431 RZ Aalsmeer (Stommeer)', '€ 1.250', '20 m2', 'https://www.huurstunt.nl', 'https://www.huurstunt.nl/studio/huren/in/aalsmeer/cyclamenstraat/Plwwq')\n",
      "('1052 EZ Amsterdam (Frederik Hendrikbuurt Noord)', '€ 950', '30 m2', 'https://www.huurstunt.nl', 'https://www.huurstunt.nl/studio/huren/in/amsterdam/fagelstraat/PkQe8')\n"
     ]
    }
   ],
   "source": [
    "listings = get_all_listings()\n",
    "for listing in listings:\n",
    "    print(listing)"
   ]
  },
  {
   "cell_type": "code",
   "execution_count": 5,
   "metadata": {},
   "outputs": [
    {
     "name": "stdout",
     "output_type": "stream",
     "text": [
      "Table: listings\n",
      "id, url, address, price, size, source_website, specific_url\n",
      "-----------------------------\n"
     ]
    }
   ],
   "source": [
    "tables = get_all_tables()\n",
    "\n",
    "for table in tables:\n",
    "    print(f\"Table: {table}\")\n",
    "    columns = get_columns_of_table(table)\n",
    "    print(\", \".join(columns))\n",
    "    print(\"-----------------------------\")\n"
   ]
  }
 ],
 "metadata": {
  "kernelspec": {
   "display_name": "Python 3",
   "language": "python",
   "name": "python3"
  },
  "language_info": {
   "codemirror_mode": {
    "name": "ipython",
    "version": 3
   },
   "file_extension": ".py",
   "mimetype": "text/x-python",
   "name": "python",
   "nbconvert_exporter": "python",
   "pygments_lexer": "ipython3",
   "version": "3.11.6"
  }
 },
 "nbformat": 4,
 "nbformat_minor": 2
}
