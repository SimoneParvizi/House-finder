{
 "cells": [
  {
   "cell_type": "code",
   "execution_count": 1,
   "metadata": {},
   "outputs": [
    {
     "name": "stdout",
     "output_type": "stream",
     "text": [
      "('123est', 1500.0, 30.0, 'https://example.com', 'https://example.com/listing')\n",
      "('123 test', 1500.0, 30.0, 'https://example.com', 'https://example.com/listing1')\n",
      "('123 test', 1500.0, 30.0, 'https://example.com', 'https://example.com/listing12')\n",
      "('123 test', 1500.0, 30.0, 'https://exsample.com', 'https://exsample.com/listing12')\n",
      "('1091 TT Amsterdam (Weesperzijde Midden/Zuid)', '€ 1.000', '29 m2', 'https://www.huurstunt.nl', 'https://www.huurstunt.nl/studio/huren/in/amsterdam/jan-bernardusstraat/PZmng')\n"
     ]
    }
   ],
   "source": [
    "import os\n",
    "os.chdir('..')\n",
    "from helper_database import get_all_listings, get_columns_of_table, get_all_tables\n",
    "\n",
    "DATABASE_NAME = \"listings.db\"\n"
   ]
  },
  {
   "cell_type": "code",
   "execution_count": null,
   "metadata": {},
   "outputs": [],
   "source": [
    "\n",
    "listings = get_all_listings()\n",
    "for listing in listings:\n",
    "    print(listing)"
   ]
  },
  {
   "cell_type": "code",
   "execution_count": 2,
   "metadata": {},
   "outputs": [
    {
     "name": "stdout",
     "output_type": "stream",
     "text": [
      "Table: listings\n",
      "id, url, address, price, size, source_website, specific_url\n",
      "-----------------------------\n"
     ]
    }
   ],
   "source": [
    "tables = get_all_tables()\n",
    "\n",
    "for table in tables:\n",
    "    print(f\"Table: {table}\")\n",
    "    columns = get_columns_of_table(table)\n",
    "    print(\", \".join(columns))\n",
    "    print(\"-----------------------------\")\n"
   ]
  }
 ],
 "metadata": {
  "kernelspec": {
   "display_name": "Python 3",
   "language": "python",
   "name": "python3"
  },
  "language_info": {
   "codemirror_mode": {
    "name": "ipython",
    "version": 3
   },
   "file_extension": ".py",
   "mimetype": "text/x-python",
   "name": "python",
   "nbconvert_exporter": "python",
   "pygments_lexer": "ipython3",
   "version": "3.11.6"
  }
 },
 "nbformat": 4,
 "nbformat_minor": 2
}
