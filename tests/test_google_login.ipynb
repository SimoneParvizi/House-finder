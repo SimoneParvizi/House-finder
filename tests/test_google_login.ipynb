{
 "cells": [
  {
   "cell_type": "code",
   "execution_count": 1,
   "metadata": {},
   "outputs": [],
   "source": [
    "import os\n",
    "os.chdir('..')"
   ]
  },
  {
   "cell_type": "code",
   "execution_count": 2,
   "metadata": {},
   "outputs": [
    {
     "name": "stdout",
     "output_type": "stream",
     "text": [
      "Please visit this URL to authorize this application: https://accounts.google.com/o/oauth2/auth?response_type=code&client_id=1073093397312-avjf1sujgdm790h8179aq5jtptiafs2l.apps.googleusercontent.com&redirect_uri=http%3A%2F%2Flocalhost%3A53066%2F&scope=https%3A%2F%2Fwww.googleapis.com%2Fauth%2Fdrive.metadata.readonly&state=vtE6AiEgFgPl64oo0L0yPH1UdPGHOl&access_type=offline\n"
     ]
    }
   ],
   "source": [
    "from google_auth_oauthlib.flow import InstalledAppFlow \n",
    "from google.oauth2 import service_account\n",
    "from googleapiclient.discovery import build\n",
    "from dotenv import load_dotenv\n",
    "import os\n",
    "\n",
    "load_dotenv()\n",
    "\n",
    "CLIENT_SECRET_FILE = os.getenv('CLIENT_SECRET_FILE')\n",
    "\n",
    "SCOPES = ['https://www.googleapis.com/auth/drive.metadata.readonly']\n",
    "\n",
    "\n",
    "def authenticate_google_account():\n",
    "    # Check if the user has already authenticated and stored their credentials\n",
    "    creds = None\n",
    "    if os.path.exists('token.json'):\n",
    "        creds = service_account.Credentials.from_authorized_user_file('token.json', SCOPES)\n",
    "\n",
    "    # If not, initiate the OAuth flow to obtain credentials\n",
    "    if not creds or not creds.valid:\n",
    "        flow = InstalledAppFlow.from_client_secrets_file(CLIENT_SECRET_FILE, SCOPES)        \n",
    "        creds = flow.run_local_server(port=0)\n",
    "        # Save the credentials for future use\n",
    "        with open('token.json', 'w') as token_file:\n",
    "            token_file.write(creds.to_json())\n",
    "\n",
    "    # Build a service object using the obtained credentials\n",
    "    service = build('drive', 'v3', credentials=creds)\n",
    "\n",
    "    return service\n",
    "\n",
    "google_service = authenticate_google_account()\n",
    "results = google_service.files().list(pageSize=10).execute()\n",
    "items = results.get('files', [])\n",
    "\n",
    "if not items:\n",
    "    print('No files found.')\n",
    "else:\n",
    "    print('Files:')\n",
    "    for item in items:\n",
    "        print(f\"{item['name']} ({item['id']})\")"
   ]
  },
  {
   "cell_type": "code",
   "execution_count": 9,
   "metadata": {},
   "outputs": [
    {
     "name": "stdout",
     "output_type": "stream",
     "text": [
      "Current working directory: c:\\Users\\simon\\Desktop\\ACHIEVE YOUR FUCKING DREAMS\\Scripts\\Amsterdam house\\House-finder\n"
     ]
    }
   ],
   "source": [
    "import os\n",
    "print(\"Current working directory:\", os.getcwd())\n"
   ]
  }
 ],
 "metadata": {
  "kernelspec": {
   "display_name": "Python 3",
   "language": "python",
   "name": "python3"
  },
  "language_info": {
   "codemirror_mode": {
    "name": "ipython",
    "version": 3
   },
   "file_extension": ".py",
   "mimetype": "text/x-python",
   "name": "python",
   "nbconvert_exporter": "python",
   "pygments_lexer": "ipython3",
   "version": "3.11.6"
  }
 },
 "nbformat": 4,
 "nbformat_minor": 2
}
