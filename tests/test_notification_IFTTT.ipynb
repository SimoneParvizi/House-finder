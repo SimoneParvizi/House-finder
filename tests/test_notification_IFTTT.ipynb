{
 "cells": [
  {
   "cell_type": "code",
   "execution_count": 10,
   "metadata": {},
   "outputs": [
    {
     "ename": "ImportError",
     "evalue": "cannot import name 'send_ifttt_notification' from 'house_scraper' (c:\\Users\\simon\\Desktop\\ACHIEVE YOUR FUCKING DREAMS\\Scripts\\Amsterdam house\\House-finder\\house_scraper.py)",
     "output_type": "error",
     "traceback": [
      "\u001b[1;31m---------------------------------------------------------------------------\u001b[0m",
      "\u001b[1;31mImportError\u001b[0m                               Traceback (most recent call last)",
      "\u001b[1;32mc:\\Users\\simon\\Desktop\\ACHIEVE YOUR FUCKING DREAMS\\Scripts\\Amsterdam house\\House-finder\\test_notification_IFTTT.ipynb Cell 1\u001b[0m line \u001b[0;36m2\n\u001b[0;32m      <a href='vscode-notebook-cell:/c%3A/Users/simon/Desktop/ACHIEVE%20YOUR%20FUCKING%20DREAMS/Scripts/Amsterdam%20house/House-finder/test_notification_IFTTT.ipynb#W0sZmlsZQ%3D%3D?line=0'>1</a>\u001b[0m \u001b[39mimport\u001b[39;00m \u001b[39mrequests\u001b[39;00m\n\u001b[1;32m----> <a href='vscode-notebook-cell:/c%3A/Users/simon/Desktop/ACHIEVE%20YOUR%20FUCKING%20DREAMS/Scripts/Amsterdam%20house/House-finder/test_notification_IFTTT.ipynb#W0sZmlsZQ%3D%3D?line=1'>2</a>\u001b[0m \u001b[39mfrom\u001b[39;00m \u001b[39mhouse_scraper\u001b[39;00m \u001b[39mimport\u001b[39;00m send_ifttt_notification\n",
      "\u001b[1;31mImportError\u001b[0m: cannot import name 'send_ifttt_notification' from 'house_scraper' (c:\\Users\\simon\\Desktop\\ACHIEVE YOUR FUCKING DREAMS\\Scripts\\Amsterdam house\\House-finder\\house_scraper.py)"
     ]
    }
   ],
   "source": [
    "import requests\n",
    "from house_scraper import send_ifttt_notification"
   ]
  },
  {
   "cell_type": "code",
   "execution_count": null,
   "metadata": {},
   "outputs": [],
   "source": [
    "address = \"123 Test Street\"\n",
    "send_ifttt_notification(address)"
   ]
  }
 ],
 "metadata": {
  "kernelspec": {
   "display_name": "Python 3",
   "language": "python",
   "name": "python3"
  },
  "language_info": {
   "codemirror_mode": {
    "name": "ipython",
    "version": 3
   },
   "file_extension": ".py",
   "mimetype": "text/x-python",
   "name": "python",
   "nbconvert_exporter": "python",
   "pygments_lexer": "ipython3",
   "version": "3.11.6"
  }
 },
 "nbformat": 4,
 "nbformat_minor": 2
}
