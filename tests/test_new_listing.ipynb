{
 "cells": [
  {
   "cell_type": "code",
   "execution_count": 1,
   "metadata": {},
   "outputs": [],
   "source": [
    "import os\n",
    "os.chdir('..')\n",
    "from dotenv import load_dotenv\n",
    "from selenium import webdriver\n",
    "from helper import set_filters_huurstunt\n",
    "from helper_database import store_listing\n",
    "from selenium.webdriver.common.by import By"
   ]
  },
  {
   "cell_type": "code",
   "execution_count": 2,
   "metadata": {},
   "outputs": [],
   "source": [
    "load_dotenv()\n",
    "\n",
    "HUURSTUNT_USERNAME = os.getenv('HUURSTUNT_USERNAME')\n",
    "HUURSTUNT_PASSWORD = os.getenv('HUURSTUNT_PASSWORD')\n",
    "\n",
    "chrome_options = webdriver.ChromeOptions()\n",
    "chrome_options.debugger_address = \"127.0.0.1:9222\"\n",
    "driver = webdriver.Chrome(options=chrome_options)\n",
    "\n",
    "\n",
    "driver.get(\"https://www.huurstunt.nl/\")\n",
    "set_filters_huurstunt(driver, 100, 1500, 'Amsterdam')"
   ]
  },
  {
   "cell_type": "code",
   "execution_count": 3,
   "metadata": {},
   "outputs": [
    {
     "name": "stdout",
     "output_type": "stream",
     "text": [
      "1509 BS Zaandam (Zaanse Schans) € 945 34 m2 https://www.huurstunt.nl/studio/huren/in/zaandam/leeghwaterweg/PyvB2\n",
      "-----------------------------\n",
      "1505 DE Zaandam (Bomenbuurt) € 975 40 m2 https://www.huurstunt.nl/studio/huren/in/zaandam/zuiddijk/PyLkO\n",
      "-----------------------------\n",
      "1091 BD Amsterdam (Oosterparkbuurt Noordwest) € 1.350 32 m2 https://www.huurstunt.nl/studio/huren/in/amsterdam/tilanusstraat/PyAIC\n",
      "-----------------------------\n",
      "1071 JZ Amsterdam (Cornelis Schuytbuurt) € 1.500 29 m2 https://www.huurstunt.nl/studio/huren/in/amsterdam/banstraat/Pwr2n\n",
      "-----------------------------\n",
      "1062 JB Amsterdam (Delflandpleinbuurt West) € 1.390 36 m2 https://www.huurstunt.nl/studio/huren/in/amsterdam/voorburgstraat/Pu2IC\n",
      "-----------------------------\n",
      "1062 EV Amsterdam (Delflandpleinbuurt West) € 948 - https://www.huurstunt.nl/studio/huren/in/amsterdam/rijswijkstraat/PtxUw\n",
      "-----------------------------\n",
      "1115 TA Duivendrecht € 692 - https://www.huurstunt.nl/studio/huren/in/duivendrecht/lunaweg/PtxUx\n",
      "-----------------------------\n",
      "1115 TA Duivendrecht € 1.250 28 m2 https://www.huurstunt.nl/studio/huren/in/duivendrecht/lunaweg/PtLw9\n",
      "-----------------------------\n",
      "1103 KB Amsterdam (G-buurt Oost) € 1.350 55 m2 https://www.huurstunt.nl/studio/huren/in/amsterdam/gouden-leeuw/PssdN\n",
      "-----------------------------\n",
      "1055 AA Amsterdam (Robert Scottbuurt West) € 1.200 30 m2 https://www.huurstunt.nl/studio/huren/in/amsterdam/bos-en-lommerplantsoen/PrdeC\n",
      "-----------------------------\n",
      "1058 VM Amsterdam (Paramariboplein e.o.) € 1.350 28 m2 https://www.huurstunt.nl/studio/huren/in/amsterdam/paramaribostraat/PqS8g\n",
      "-----------------------------\n",
      "1015 WE Amsterdam (Zaagpoortbuurt) € 1.450 27 m2 https://www.huurstunt.nl/studio/huren/in/amsterdam/marnixstraat/PpaJU\n",
      "-----------------------------\n",
      "1054 XA Amsterdam (Cremerbuurt Oost) € 900 57 m2 https://www.huurstunt.nl/studio/huren/in/amsterdam/kanaalstraat/PoZyi\n",
      "-----------------------------\n",
      "1431 RZ Aalsmeer (Stommeer) € 1.250 20 m2 https://www.huurstunt.nl/studio/huren/in/aalsmeer/cyclamenstraat/Plwwq\n",
      "-----------------------------\n",
      "1052 EZ Amsterdam (Frederik Hendrikbuurt Noord) € 950 30 m2 https://www.huurstunt.nl/studio/huren/in/amsterdam/fagelstraat/PkQe8\n",
      "-----------------------------\n",
      "1091 TT Amsterdam (Weesperzijde Midden/Zuid) € 1.000 29 m2 https://www.huurstunt.nl/studio/huren/in/amsterdam/jan-bernardusstraat/PZmng\n",
      "-----------------------------\n"
     ]
    }
   ],
   "source": [
    "listings = driver.find_elements(By.XPATH, '//div[contains(@class, \"rental-card-wide\") and contains(@class, \"col-lg-12\") and contains(@class, \"col-md-12\")]')\n",
    "base_xpath = \"/html/body/div[3]/div[2]/section[1]/div/div[2]/div[2]/div[2]/div/div[{}]/div/div/div/div/a\"\n",
    "\n",
    "for idx, listing in enumerate(listings, start=1):\n",
    "    \n",
    "    # Specific URL for each listing \n",
    "    xpath = base_xpath.format(idx)\n",
    "    try:\n",
    "        element = driver.find_element(By.XPATH, xpath)\n",
    "        specific_url = element.get_attribute('href')\n",
    "    except:\n",
    "        continue  # or however you'd like to handle the absence of the URL\n",
    "\n",
    "\n",
    "    parts = listing.text.split('\\n')\n",
    "    address = parts[1]\n",
    "    price = parts[2]\n",
    "    size = parts[4]\n",
    "    \n",
    "    print(address, price, size, specific_url)  # or process the data however you like\n",
    "    print(\"-----------------------------\")\n"
   ]
  },
  {
   "cell_type": "code",
   "execution_count": 4,
   "metadata": {},
   "outputs": [
    {
     "data": {
      "text/plain": [
       "'Leeghwaterweg\\n1509 BS Zaandam (Zaanse Schans)\\n€ 945\\nPer 6 november te huur! Gemeubileerde studio welke onderdeel is van een woonboerderij aan de rand van Zaandam. De studio\\n34 m2\\n1 kamer\\nGemeubileerd'"
      ]
     },
     "execution_count": 4,
     "metadata": {},
     "output_type": "execute_result"
    }
   ],
   "source": [
    "listings[0].text"
   ]
  },
  {
   "cell_type": "code",
   "execution_count": 6,
   "metadata": {},
   "outputs": [
    {
     "ename": "OperationalError",
     "evalue": "6 values for 4 columns",
     "output_type": "error",
     "traceback": [
      "\u001b[1;31m---------------------------------------------------------------------------\u001b[0m",
      "\u001b[1;31mOperationalError\u001b[0m                          Traceback (most recent call last)",
      "\u001b[1;32mc:\\Users\\simon\\Desktop\\ACHIEVE YOUR FUCKING DREAMS\\Scripts\\Amsterdam house\\House-finder\\tests\\test_new_listing.ipynb Cell 5\u001b[0m line \u001b[0;36m2\n\u001b[0;32m     <a href='vscode-notebook-cell:/c%3A/Users/simon/Desktop/ACHIEVE%20YOUR%20FUCKING%20DREAMS/Scripts/Amsterdam%20house/House-finder/tests/test_new_listing.ipynb#X14sZmlsZQ%3D%3D?line=22'>23</a>\u001b[0m         conn\u001b[39m.\u001b[39mcommit()\n\u001b[0;32m     <a href='vscode-notebook-cell:/c%3A/Users/simon/Desktop/ACHIEVE%20YOUR%20FUCKING%20DREAMS/Scripts/Amsterdam%20house/House-finder/tests/test_new_listing.ipynb#X14sZmlsZQ%3D%3D?line=24'>25</a>\u001b[0m     conn\u001b[39m.\u001b[39mclose()\n\u001b[1;32m---> <a href='vscode-notebook-cell:/c%3A/Users/simon/Desktop/ACHIEVE%20YOUR%20FUCKING%20DREAMS/Scripts/Amsterdam%20house/House-finder/tests/test_new_listing.ipynb#X14sZmlsZQ%3D%3D?line=28'>29</a>\u001b[0m store_listing_(address, price, size, specific_url)\n",
      "\u001b[1;32mc:\\Users\\simon\\Desktop\\ACHIEVE YOUR FUCKING DREAMS\\Scripts\\Amsterdam house\\House-finder\\tests\\test_new_listing.ipynb Cell 5\u001b[0m line \u001b[0;36m1\n\u001b[0;32m     <a href='vscode-notebook-cell:/c%3A/Users/simon/Desktop/ACHIEVE%20YOUR%20FUCKING%20DREAMS/Scripts/Amsterdam%20house/House-finder/tests/test_new_listing.ipynb#X14sZmlsZQ%3D%3D?line=14'>15</a>\u001b[0m existing_listing \u001b[39m=\u001b[39m cursor\u001b[39m.\u001b[39mfetchone()\n\u001b[0;32m     <a href='vscode-notebook-cell:/c%3A/Users/simon/Desktop/ACHIEVE%20YOUR%20FUCKING%20DREAMS/Scripts/Amsterdam%20house/House-finder/tests/test_new_listing.ipynb#X14sZmlsZQ%3D%3D?line=16'>17</a>\u001b[0m \u001b[39mif\u001b[39;00m \u001b[39mnot\u001b[39;00m existing_listing:\n\u001b[1;32m---> <a href='vscode-notebook-cell:/c%3A/Users/simon/Desktop/ACHIEVE%20YOUR%20FUCKING%20DREAMS/Scripts/Amsterdam%20house/House-finder/tests/test_new_listing.ipynb#X14sZmlsZQ%3D%3D?line=17'>18</a>\u001b[0m     cursor\u001b[39m.\u001b[39;49mexecute(\u001b[39m'''\u001b[39;49m\n\u001b[0;32m     <a href='vscode-notebook-cell:/c%3A/Users/simon/Desktop/ACHIEVE%20YOUR%20FUCKING%20DREAMS/Scripts/Amsterdam%20house/House-finder/tests/test_new_listing.ipynb#X14sZmlsZQ%3D%3D?line=18'>19</a>\u001b[0m \u001b[39m    INSERT INTO listings (address, price, source_website, specific_url)\u001b[39;49m\n\u001b[0;32m     <a href='vscode-notebook-cell:/c%3A/Users/simon/Desktop/ACHIEVE%20YOUR%20FUCKING%20DREAMS/Scripts/Amsterdam%20house/House-finder/tests/test_new_listing.ipynb#X14sZmlsZQ%3D%3D?line=19'>20</a>\u001b[0m \u001b[39m    VALUES (?, ?, ?, ?, ?, ?)\u001b[39;49m\n\u001b[0;32m     <a href='vscode-notebook-cell:/c%3A/Users/simon/Desktop/ACHIEVE%20YOUR%20FUCKING%20DREAMS/Scripts/Amsterdam%20house/House-finder/tests/test_new_listing.ipynb#X14sZmlsZQ%3D%3D?line=20'>21</a>\u001b[0m \u001b[39m    \u001b[39;49m\u001b[39m'''\u001b[39;49m, (address, price \u001b[39mor\u001b[39;49;00m \u001b[39m\"\u001b[39;49m\u001b[39mNaN\u001b[39;49m\u001b[39m\"\u001b[39;49m, size \u001b[39mor\u001b[39;49;00m \u001b[39m\"\u001b[39;49m\u001b[39mNaN\u001b[39;49m\u001b[39m\"\u001b[39;49m, main_part, source_website_url))\n\u001b[0;32m     <a href='vscode-notebook-cell:/c%3A/Users/simon/Desktop/ACHIEVE%20YOUR%20FUCKING%20DREAMS/Scripts/Amsterdam%20house/House-finder/tests/test_new_listing.ipynb#X14sZmlsZQ%3D%3D?line=22'>23</a>\u001b[0m     conn\u001b[39m.\u001b[39mcommit()\n\u001b[0;32m     <a href='vscode-notebook-cell:/c%3A/Users/simon/Desktop/ACHIEVE%20YOUR%20FUCKING%20DREAMS/Scripts/Amsterdam%20house/House-finder/tests/test_new_listing.ipynb#X14sZmlsZQ%3D%3D?line=24'>25</a>\u001b[0m conn\u001b[39m.\u001b[39mclose()\n",
      "\u001b[1;31mOperationalError\u001b[0m: 6 values for 4 columns"
     ]
    }
   ],
   "source": [
    "import sqlite3\n",
    "from urllib.parse import urlparse\n",
    "\n",
    "DATABASE_NAME = \"listings.db\"\n",
    "\n",
    "def store_listing_(address, price=None, size=None, source_website_url=None):\n",
    "    conn = sqlite3.connect(DATABASE_NAME)\n",
    "    cursor = conn.cursor()\n",
    "\n",
    "    # Extract until .com or .nl\n",
    "    main_part = source_website_url.split(\".com\")[0] + \".com\" if \".com\" in source_website_url else source_website_url.split(\".nl\")[0] + \".nl\"\n",
    "\n",
    "    # Listing with the same specific_url already exists or not\n",
    "    cursor.execute('SELECT * FROM listings WHERE specific_url = ?', (source_website_url,))\n",
    "    existing_listing = cursor.fetchone()\n",
    "\n",
    "    if not existing_listing:\n",
    "        cursor.execute('''\n",
    "        INSERT INTO listings (address, price, source_website, specific_url)\n",
    "        VALUES (?, ?, ?, ?)\n",
    "        ''', (address, price or \"NaN\", size or \"NaN\", main_part, source_website_url))\n",
    "\n",
    "        conn.commit()\n",
    "\n",
    "    conn.close()\n",
    "\n",
    "\n",
    "\n",
    "store_listing_(address, price, size, specific_url)"
   ]
  },
  {
   "cell_type": "code",
   "execution_count": 27,
   "metadata": {},
   "outputs": [
    {
     "data": {
      "text/plain": [
       "'1091 TT Amsterdam (Weesperzijde Midden/Zuid)'"
      ]
     },
     "execution_count": 27,
     "metadata": {},
     "output_type": "execute_result"
    }
   ],
   "source": [
    "address"
   ]
  },
  {
   "cell_type": "code",
   "execution_count": null,
   "metadata": {},
   "outputs": [],
   "source": []
  }
 ],
 "metadata": {
  "kernelspec": {
   "display_name": "Python 3",
   "language": "python",
   "name": "python3"
  },
  "language_info": {
   "codemirror_mode": {
    "name": "ipython",
    "version": 3
   },
   "file_extension": ".py",
   "mimetype": "text/x-python",
   "name": "python",
   "nbconvert_exporter": "python",
   "pygments_lexer": "ipython3",
   "version": "3.11.6"
  }
 },
 "nbformat": 4,
 "nbformat_minor": 2
}
