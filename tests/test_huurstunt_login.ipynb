{
 "cells": [
  {
   "cell_type": "code",
   "execution_count": 1,
   "metadata": {},
   "outputs": [],
   "source": [
    "import os\n",
    "os.chdir('..')\n",
    "from house_scraper import login_to_huurstunt\n",
    "from dotenv import load_dotenv\n",
    "from selenium import webdriver"
   ]
  },
  {
   "cell_type": "code",
   "execution_count": 2,
   "metadata": {},
   "outputs": [],
   "source": [
    "load_dotenv()\n",
    "\n",
    "HUURSTUNT_USERNAME = os.getenv('HUURSTUNT_USERNAME')\n",
    "HUURSTUNT_PASSWORD = os.getenv('HUURSTUNT_PASSWORD')"
   ]
  },
  {
   "cell_type": "code",
   "execution_count": 5,
   "metadata": {},
   "outputs": [
    {
     "name": "stdout",
     "output_type": "stream",
     "text": [
      "correclty logged in\n",
      "An error occurred during the login process: Message: element click intercepted: Element <select id=\"price_till\" name=\"price_till\" data-maximum-price=\"new\" class=\"form-control\">...</select> is not clickable at point (556, 574). Other element would receive the click: <div class=\"form-field form-field--submit-center\">...</div>\n",
      "  (Session info: chrome=118.0.5993.89)\n",
      "Stacktrace:\n",
      "\tGetHandleVerifier [0x00007FF7C79E8EF2+54786]\n",
      "\t(No symbol) [0x00007FF7C7955612]\n",
      "\t(No symbol) [0x00007FF7C780A64B]\n",
      "\t(No symbol) [0x00007FF7C7851A6B]\n",
      "\t(No symbol) [0x00007FF7C784FE39]\n",
      "\t(No symbol) [0x00007FF7C784DC08]\n",
      "\t(No symbol) [0x00007FF7C784CCC3]\n",
      "\t(No symbol) [0x00007FF7C78429CF]\n",
      "\t(No symbol) [0x00007FF7C786BE6A]\n",
      "\t(No symbol) [0x00007FF7C78422E6]\n",
      "\t(No symbol) [0x00007FF7C786C080]\n",
      "\t(No symbol) [0x00007FF7C7884D02]\n",
      "\t(No symbol) [0x00007FF7C786BC43]\n",
      "\t(No symbol) [0x00007FF7C7840941]\n",
      "\t(No symbol) [0x00007FF7C7841B84]\n",
      "\tGetHandleVerifier [0x00007FF7C7D37F52+3524194]\n",
      "\tGetHandleVerifier [0x00007FF7C7D8D800+3874576]\n",
      "\tGetHandleVerifier [0x00007FF7C7D85D7F+3843215]\n",
      "\tGetHandleVerifier [0x00007FF7C7A85086+694166]\n",
      "\t(No symbol) [0x00007FF7C7960A88]\n",
      "\t(No symbol) [0x00007FF7C795CA94]\n",
      "\t(No symbol) [0x00007FF7C795CBC2]\n",
      "\t(No symbol) [0x00007FF7C794CC83]\n",
      "\tBaseThreadInitThunk [0x00007FF8D109257D+29]\n",
      "\tRtlUserThreadStart [0x00007FF8D2D2AA78+40]\n",
      "\n"
     ]
    }
   ],
   "source": [
    "driver = webdriver.Chrome()\n",
    "login_to_huurstunt(driver, HUURSTUNT_USERNAME, HUURSTUNT_PASSWORD)\n",
    "#driver.quit()"
   ]
  },
  {
   "cell_type": "code",
   "execution_count": null,
   "metadata": {},
   "outputs": [],
   "source": []
  },
  {
   "cell_type": "code",
   "execution_count": null,
   "metadata": {},
   "outputs": [],
   "source": []
  }
 ],
 "metadata": {
  "kernelspec": {
   "display_name": "Python 3",
   "language": "python",
   "name": "python3"
  },
  "language_info": {
   "codemirror_mode": {
    "name": "ipython",
    "version": 3
   },
   "file_extension": ".py",
   "mimetype": "text/x-python",
   "name": "python",
   "nbconvert_exporter": "python",
   "pygments_lexer": "ipython3",
   "version": "3.11.6"
  }
 },
 "nbformat": 4,
 "nbformat_minor": 2
}
