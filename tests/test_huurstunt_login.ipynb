{
 "cells": [
  {
   "cell_type": "code",
   "execution_count": 2,
   "metadata": {},
   "outputs": [
    {
     "ename": "AttributeError",
     "evalue": "'WebDriver' object has no attribute 'find_element_by_xpath'",
     "output_type": "error",
     "traceback": [
      "\u001b[1;31m---------------------------------------------------------------------------\u001b[0m",
      "\u001b[1;31mAttributeError\u001b[0m                            Traceback (most recent call last)",
      "\u001b[1;32mc:\\Users\\simon\\Desktop\\ACHIEVE YOUR FUCKING DREAMS\\Scripts\\Amsterdam house\\House-finder\\tests\\test_huurstunt_login.ipynb Cell 1\u001b[0m line \u001b[0;36m8\n\u001b[0;32m      <a href='vscode-notebook-cell:/c%3A/Users/simon/Desktop/ACHIEVE%20YOUR%20FUCKING%20DREAMS/Scripts/Amsterdam%20house/House-finder/tests/test_huurstunt_login.ipynb#W0sZmlsZQ%3D%3D?line=4'>5</a>\u001b[0m GOOGLE_EMAIL \u001b[39m=\u001b[39m os\u001b[39m.\u001b[39menviron\u001b[39m.\u001b[39mget(\u001b[39m'\u001b[39m\u001b[39mHUURSTUNT_EMAIL\u001b[39m\u001b[39m'\u001b[39m)\n\u001b[0;32m      <a href='vscode-notebook-cell:/c%3A/Users/simon/Desktop/ACHIEVE%20YOUR%20FUCKING%20DREAMS/Scripts/Amsterdam%20house/House-finder/tests/test_huurstunt_login.ipynb#W0sZmlsZQ%3D%3D?line=5'>6</a>\u001b[0m GOOGLE_PASSWORD \u001b[39m=\u001b[39m os\u001b[39m.\u001b[39menviron\u001b[39m.\u001b[39mget(\u001b[39m'\u001b[39m\u001b[39mHUURSTUNT_PASSWORD\u001b[39m\u001b[39m'\u001b[39m)\n\u001b[1;32m----> <a href='vscode-notebook-cell:/c%3A/Users/simon/Desktop/ACHIEVE%20YOUR%20FUCKING%20DREAMS/Scripts/Amsterdam%20house/House-finder/tests/test_huurstunt_login.ipynb#W0sZmlsZQ%3D%3D?line=7'>8</a>\u001b[0m driver \u001b[39m=\u001b[39m login_to_pararius(GOOGLE_EMAIL, GOOGLE_PASSWORD)\n\u001b[0;32m     <a href='vscode-notebook-cell:/c%3A/Users/simon/Desktop/ACHIEVE%20YOUR%20FUCKING%20DREAMS/Scripts/Amsterdam%20house/House-finder/tests/test_huurstunt_login.ipynb#W0sZmlsZQ%3D%3D?line=9'>10</a>\u001b[0m \u001b[39m# Check if login was successful by looking for an element indicative of a successful login.\u001b[39;00m\n\u001b[0;32m     <a href='vscode-notebook-cell:/c%3A/Users/simon/Desktop/ACHIEVE%20YOUR%20FUCKING%20DREAMS/Scripts/Amsterdam%20house/House-finder/tests/test_huurstunt_login.ipynb#W0sZmlsZQ%3D%3D?line=10'>11</a>\u001b[0m \u001b[39m# Adjust the XPath according to the actual content of the website.\u001b[39;00m\n\u001b[0;32m     <a href='vscode-notebook-cell:/c%3A/Users/simon/Desktop/ACHIEVE%20YOUR%20FUCKING%20DREAMS/Scripts/Amsterdam%20house/House-finder/tests/test_huurstunt_login.ipynb#W0sZmlsZQ%3D%3D?line=11'>12</a>\u001b[0m \u001b[39mtry\u001b[39;00m:\n",
      "File \u001b[1;32mc:\\Users\\simon\\Desktop\\ACHIEVE YOUR FUCKING DREAMS\\Scripts\\Amsterdam house\\House-finder\\house_scraper.py:205\u001b[0m, in \u001b[0;36mlogin_to_pararius\u001b[1;34m(email, password)\u001b[0m\n\u001b[0;32m    202\u001b[0m driver\u001b[39m.\u001b[39mget(\u001b[39m\"\u001b[39m\u001b[39mhttps://www.pararius.nl/inloggen\u001b[39m\u001b[39m\"\u001b[39m)\n\u001b[0;32m    204\u001b[0m \u001b[39m# Click on 'Login with Google'\u001b[39;00m\n\u001b[1;32m--> 205\u001b[0m google_login_button \u001b[39m=\u001b[39m driver\u001b[39m.\u001b[39;49mfind_element_by_xpath(\u001b[39m\"\u001b[39m\u001b[39m//a[contains(text(), \u001b[39m\u001b[39m'\u001b[39m\u001b[39mLog in met Google\u001b[39m\u001b[39m'\u001b[39m\u001b[39m)]\u001b[39m\u001b[39m\"\u001b[39m)\n\u001b[0;32m    206\u001b[0m google_login_button\u001b[39m.\u001b[39mclick()\n\u001b[0;32m    208\u001b[0m \u001b[39m# Wait for the Google login page to load (you might need to adjust the waiting time)\u001b[39;00m\n",
      "\u001b[1;31mAttributeError\u001b[0m: 'WebDriver' object has no attribute 'find_element_by_xpath'"
     ]
    }
   ],
   "source": [
    "from house_scraper import login_to_pararius\n",
    "from selenium.webdriver.common.by import By\n",
    "import os\n",
    "\n",
    "GOOGLE_EMAIL = os.environ.get('HUURSTUNT_EMAIL')\n",
    "GOOGLE_PASSWORD = os.environ.get('HUURSTUNT_PASSWORD')\n",
    "\n",
    "driver = login_to_pararius(GOOGLE_EMAIL, GOOGLE_PASSWORD)\n",
    "\n",
    "# Check if login was successful by looking for an element indicative of a successful login.\n",
    "# Adjust the XPath according to the actual content of the website.\n",
    "try:\n",
    "    driver.find_element(By.XPATH, \"//a[contains(text(), 'Logout')]\")\n",
    "except:\n",
    "    print(\"Login failed.\")\n",
    "finally:\n",
    "    driver.quit()  # REMEMBER to close\n"
   ]
  },
  {
   "cell_type": "code",
   "execution_count": 1,
   "metadata": {},
   "outputs": [],
   "source": [
    "import os\n",
    "os.chdir('..')"
   ]
  },
  {
   "cell_type": "code",
   "execution_count": null,
   "metadata": {},
   "outputs": [],
   "source": []
  }
 ],
 "metadata": {
  "kernelspec": {
   "display_name": "Python 3",
   "language": "python",
   "name": "python3"
  },
  "language_info": {
   "codemirror_mode": {
    "name": "ipython",
    "version": 3
   },
   "file_extension": ".py",
   "mimetype": "text/x-python",
   "name": "python",
   "nbconvert_exporter": "python",
   "pygments_lexer": "ipython3",
   "version": "3.11.6"
  }
 },
 "nbformat": 4,
 "nbformat_minor": 2
}
